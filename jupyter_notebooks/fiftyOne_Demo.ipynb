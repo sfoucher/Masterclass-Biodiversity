{
 "cells": [
  {
   "cell_type": "markdown",
   "metadata": {
    "colab_type": "text",
    "id": "view-in-github"
   },
   "source": [
    "<a href=\"https://colab.research.google.com/github/sfoucher/Masterclass-Biodiversity/blob/code-reorg/jupyter_notebooks/fiftyOne_Demo.ipynb\" target=\"_parent\"><img src=\"https://colab.research.google.com/assets/colab-badge.svg\" alt=\"Open In Colab\"/></a>"
   ]
  },
  {
   "cell_type": "code",
   "execution_count": 1,
   "metadata": {
    "colab": {
     "base_uri": "https://localhost:8080/"
    },
    "id": "CCzVvObFLram",
    "outputId": "91c20723-a55b-41df-fba8-34f42c46465c"
   },
   "outputs": [
    {
     "name": "stdout",
     "output_type": "stream",
     "text": [
      "\u001b[K     |████████████████████████████████| 1.2 MB 19.8 MB/s \n",
      "\u001b[K     |████████████████████████████████| 639 kB 36.3 MB/s \n",
      "\u001b[K     |████████████████████████████████| 562 kB 37.1 MB/s \n",
      "\u001b[K     |████████████████████████████████| 47.6 MB 2.1 MB/s \n",
      "\u001b[K     |████████████████████████████████| 13.2 MB 29.8 MB/s \n",
      "\u001b[K     |████████████████████████████████| 79.9 MB 1.3 MB/s \n",
      "\u001b[K     |████████████████████████████████| 226 kB 55.2 MB/s \n",
      "\u001b[K     |████████████████████████████████| 55 kB 4.2 MB/s \n",
      "\u001b[K     |████████████████████████████████| 29.2 MB 1.5 MB/s \n",
      "\u001b[K     |████████████████████████████████| 131 kB 73.3 MB/s \n",
      "\u001b[K     |████████████████████████████████| 106 kB 48.3 MB/s \n",
      "\u001b[K     |████████████████████████████████| 83 kB 1.7 MB/s \n",
      "\u001b[K     |████████████████████████████████| 56 kB 5.3 MB/s \n",
      "\u001b[K     |████████████████████████████████| 54 kB 4.5 MB/s \n",
      "\u001b[K     |████████████████████████████████| 78 kB 8.1 MB/s \n",
      "\u001b[K     |████████████████████████████████| 77 kB 7.3 MB/s \n",
      "\u001b[K     |████████████████████████████████| 79 kB 10.2 MB/s \n",
      "\u001b[K     |████████████████████████████████| 8.4 MB 40.7 MB/s \n",
      "\u001b[K     |████████████████████████████████| 138 kB 62.0 MB/s \n",
      "\u001b[K     |████████████████████████████████| 241 kB 53.5 MB/s \n",
      "\u001b[K     |████████████████████████████████| 127 kB 55.1 MB/s \n",
      "\u001b[31mERROR: pip's dependency resolver does not currently take into account all the packages that are installed. This behaviour is the source of the following dependency conflicts.\n",
      "datascience 0.10.6 requires folium==0.2.1, but you have folium 0.8.3 which is incompatible.\u001b[0m\n",
      "\u001b[?25h"
     ]
    }
   ],
   "source": [
    "!pip -qq install fiftyone"
   ]
  },
  {
   "cell_type": "markdown",
   "metadata": {
    "id": "pYhTgs3JSS_t"
   },
   "source": [
    "## General Dataset"
   ]
  },
  {
   "cell_type": "code",
   "execution_count": 3,
   "metadata": {
    "colab": {
     "base_uri": "https://localhost:8080/"
    },
    "id": "vKQOoZb1MVXK",
    "outputId": "c9502f29-2d8f-4376-8da5-ed270db8ae3d"
   },
   "outputs": [
    {
     "name": "stdout",
     "output_type": "stream",
     "text": [
      "Downloading...\n",
      "From: https://drive.google.com/uc?id=1xx9BAvC_-8DgROSELUqty_QK_ch4DSd9\n",
      "To: /home/jovyan/general_dataset.zip\n",
      "100%|██████████████████████████████████████| 13.2G/13.2G [05:54<00:00, 37.2MB/s]\n"
     ]
    }
   ],
   "source": [
    "!gdown --id 1xx9BAvC_-8DgROSELUqty_QK_ch4DSd9 -O ~/general_dataset.zip"
   ]
  },
  {
   "cell_type": "code",
   "execution_count": 4,
   "metadata": {
    "id": "xt9AeMElMcFS"
   },
   "outputs": [],
   "source": [
    "!unzip -oq ~/general_dataset.zip "
   ]
  },
  {
   "cell_type": "markdown",
   "metadata": {
    "id": "d5W7vUV_SWQr"
   },
   "source": [
    "## Training Tiles (1000x1000)"
   ]
  },
  {
   "cell_type": "code",
   "execution_count": 6,
   "metadata": {
    "colab": {
     "base_uri": "https://localhost:8080/"
    },
    "id": "LS0Znq3oNXpn",
    "outputId": "77d344bd-2cd5-42c6-b3ca-4ab0302e397b"
   },
   "outputs": [
    {
     "name": "stdout",
     "output_type": "stream",
     "text": [
      "Downloading...\n",
      "From: https://drive.google.com/uc?id=1raU3uP7F_dimq5d9TTSSAkD3vNXpvulf\n",
      "To: /home/jovyan/sub_frames_1000.zip\n",
      "100%|██████████████████████████████████████| 1.46G/1.46G [00:14<00:00, 98.1MB/s]\n"
     ]
    }
   ],
   "source": [
    "!gdown --id 1raU3uP7F_dimq5d9TTSSAkD3vNXpvulf -O ~/sub_frames_1000.zip\n",
    "!unzip -oq ~/sub_frames_1000.zip"
   ]
  },
  {
   "cell_type": "code",
   "execution_count": 7,
   "metadata": {},
   "outputs": [],
   "source": [
    "!unzip -oq ~/sub_frames_1000.zip "
   ]
  },
  {
   "cell_type": "markdown",
   "metadata": {
    "id": "crZSkPyDSdTK"
   },
   "source": [
    "## Model"
   ]
  },
  {
   "cell_type": "code",
   "execution_count": 17,
   "metadata": {
    "colab": {
     "base_uri": "https://localhost:8080/"
    },
    "id": "GZLiMtpcSgVy",
    "outputId": "5a367e4f-5bb5-4429-d0b7-0473c7ade431"
   },
   "outputs": [
    {
     "name": "stdout",
     "output_type": "stream",
     "text": [
      "Downloading...\n",
      "From: https://drive.google.com/uc?id=1iJ1kvVkz3z6PtSHXpBVg8AQ_GW9Q75Qj\n",
      "To: /content/epoch_12.pth\n",
      "100% 485M/485M [00:04<00:00, 105MB/s]\n"
     ]
    }
   ],
   "source": [
    "!gdown --id 1iJ1kvVkz3z6PtSHXpBVg8AQ_GW9Q75Qj"
   ]
  },
  {
   "cell_type": "code",
   "execution_count": 9,
   "metadata": {
    "colab": {
     "base_uri": "https://localhost:8080/"
    },
    "id": "t0n46MzBQNw6",
    "outputId": "d1f6badd-9bb0-4de8-bdf5-19baa1bcd75d"
   },
   "outputs": [
    {
     "name": "stdout",
     "output_type": "stream",
     "text": []
    },
    {
     "name": "stdout",
     "output_type": "stream",
     "text": [
      " 100% |███████████████| 2791/2791 [7.0s elapsed, 0s remaining, 358.6 samples/s]      \n"
     ]
    }
   ],
   "source": [
    "import fiftyone as fo\n",
    "\n",
    "# A name for the dataset\n",
    "name = \"sub_frames_1000\"\n",
    "\n",
    "# The directory containing the dataset to import\n",
    "dataset_dir = \"~/sub_frames/train\"\n",
    "\n",
    "# The type of the dataset being imported\n",
    "dataset_type = fo.types.COCODetectionDataset  # for example\n",
    "\n",
    "dataset_train = fo.Dataset.from_dir(\n",
    "    data_path =dataset_dir,\n",
    "    labels_path = dataset_dir + '/coco_subframes.json',\n",
    "    dataset_type=dataset_type,\n",
    "    name=name\n",
    ")"
   ]
  },
  {
   "cell_type": "code",
   "execution_count": 9,
   "metadata": {
    "colab": {
     "base_uri": "https://localhost:8080/"
    },
    "id": "wBcQbg2KL_W4",
    "outputId": "f33ff36f-a2fc-46bf-d985-4c6059965fa6"
   },
   "outputs": [
    {
     "name": "stdout",
     "output_type": "stream",
     "text": [
      " 100% |█████████████████| 928/928 [6.5s elapsed, 0s remaining, 136.4 samples/s]      \n"
     ]
    }
   ],
   "source": [
    "import fiftyone as fo\n",
    "\n",
    "# A name for the dataset\n",
    "name = \"my-dataset2\"\n",
    "\n",
    "# The directory containing the dataset to import\n",
    "dataset_dir = \"/content/general_dataset/train\"\n",
    "\n",
    "# The type of the dataset being imported\n",
    "dataset_type = fo.types.COCODetectionDataset  # for example\n",
    "\n",
    "dataset = fo.Dataset.from_dir(\n",
    "    data_path =dataset_dir,\n",
    "    labels_path = '/content/general_dataset/groundtruth/json/big_size/train_big_size_A_B_E_K_WH_WB.json',\n",
    "    dataset_type=dataset_type,\n",
    "    name=name\n",
    ")"
   ]
  },
  {
   "cell_type": "code",
   "execution_count": 10,
   "metadata": {
    "colab": {
     "base_uri": "https://localhost:8080/"
    },
    "id": "kNSpjMd8PoNM",
    "outputId": "19c9474d-b994-4929-ffc9-8a9c3bb71286"
   },
   "outputs": [
    {
     "name": "stdout",
     "output_type": "stream",
     "text": [
      "Name:        sub_frames_1000\n",
      "Media type:  image\n",
      "Num samples: 2791\n",
      "Persistent:  False\n",
      "Tags:        []\n",
      "Sample fields:\n",
      "    id:           fiftyone.core.fields.ObjectIdField\n",
      "    filepath:     fiftyone.core.fields.StringField\n",
      "    tags:         fiftyone.core.fields.ListField(fiftyone.core.fields.StringField)\n",
      "    metadata:     fiftyone.core.fields.EmbeddedDocumentField(fiftyone.core.metadata.Metadata)\n",
      "    ground_truth: fiftyone.core.fields.EmbeddedDocumentField(fiftyone.core.labels.Detections)\n"
     ]
    }
   ],
   "source": [
    "# Print some information about the dataset\n",
    "print(dataset_train)"
   ]
  },
  {
   "cell_type": "code",
   "execution_count": 11,
   "metadata": {
    "colab": {
     "base_uri": "https://localhost:8080/"
    },
    "id": "uGKkihhKPqG8",
    "outputId": "34bb5fa5-f4a5-40b4-8b16-26b583511fdc"
   },
   "outputs": [
    {
     "name": "stdout",
     "output_type": "stream",
     "text": [
      "<Detection: {\n",
      "    'id': '61abd04b2df6792a1f2dbe0f',\n",
      "    'attributes': BaseDict({}),\n",
      "    'tags': BaseList([]),\n",
      "    'label': 'Kob',\n",
      "    'bounding_box': BaseList([0.707, 0.446, 0.039, 0.025]),\n",
      "    'mask': None,\n",
      "    'confidence': None,\n",
      "    'index': None,\n",
      "    'supercategory': 'animal',\n",
      "    'iscrowd': 0,\n",
      "}>\n"
     ]
    }
   ],
   "source": [
    "# Print a ground truth detection\n",
    "sample = dataset_train.first()\n",
    "print(sample.ground_truth.detections[0])"
   ]
  },
  {
   "cell_type": "code",
   "execution_count": 14,
   "metadata": {
    "colab": {
     "base_uri": "https://localhost:8080/",
     "height": 821,
     "resources": {
      "https://localhost:5151/polling?sessionId=1efc48cd-5d02-4d68-84f0-a272756098cf": {
       "data": "eyJtZXNzYWdlcyI6IFtdfQ==",
       "headers": [
        [
         "access-control-allow-headers",
         "x-requested-with"
        ],
        [
         "content-type",
         "text/html; charset=UTF-8"
        ]
       ],
       "ok": true,
       "status": 200,
       "status_text": ""
      }
     }
    },
    "id": "0tLF06qAPt6t",
    "outputId": "7bbe1cae-18ff-45b6-8f94-b6e369b1ecfd"
   },
   "outputs": [
    {
     "data": {
      "text/html": [
       "\n",
       "        <iframe\n",
       "            width=\"100%\"\n",
       "            height=\"800\"\n",
       "            src=\"http://localhost:5151/?notebook=true&handleId=e8d2281d-b563-4a2f-8b97-0e53889859c7\"\n",
       "            frameborder=\"0\"\n",
       "            allowfullscreen\n",
       "            \n",
       "        ></iframe>\n",
       "        "
      ],
      "text/plain": [
       "<IPython.lib.display.IFrame at 0x7f80e7ba8fd0>"
      ]
     },
     "metadata": {},
     "output_type": "display_data"
    }
   ],
   "source": [
    "session = fo.launch_app(dataset_train, height=800)"
   ]
  },
  {
   "cell_type": "code",
   "execution_count": null,
   "metadata": {},
   "outputs": [],
   "source": []
  }
 ],
 "metadata": {
  "colab": {
   "authorship_tag": "ABX9TyOr4+t/EhHSgEIZZ7tskCyO",
   "include_colab_link": true,
   "name": "fiftyOne Demo.ipynb",
   "provenance": []
  },
  "kernelspec": {
   "display_name": "fiftyone",
   "language": "python",
   "name": "fiftyone"
  },
  "language_info": {
   "codemirror_mode": {
    "name": "ipython",
    "version": 3
   },
   "file_extension": ".py",
   "mimetype": "text/x-python",
   "name": "python",
   "nbconvert_exporter": "python",
   "pygments_lexer": "ipython3",
   "version": "3.8.12"
  }
 },
 "nbformat": 4,
 "nbformat_minor": 4
}
