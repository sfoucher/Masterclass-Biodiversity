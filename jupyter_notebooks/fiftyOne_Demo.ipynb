{
  "cells": [
    {
      "cell_type": "markdown",
      "metadata": {
        "id": "view-in-github",
        "colab_type": "text"
      },
      "source": [
        "<a href=\"https://colab.research.google.com/github/sfoucher/Masterclass-Biodiversity/blob/code-reorg/jupyter_notebooks/fiftyOne_Demo.ipynb\" target=\"_parent\"><img src=\"https://colab.research.google.com/assets/colab-badge.svg\" alt=\"Open In Colab\"/></a>"
      ]
    },
    {
      "cell_type": "code",
      "execution_count": 1,
      "metadata": {
        "colab": {
          "base_uri": "https://localhost:8080/"
        },
        "id": "CCzVvObFLram",
        "outputId": "0687192d-23f3-4e9e-d27d-525e58412203"
      },
      "outputs": [
        {
          "output_type": "stream",
          "name": "stdout",
          "text": [
            "\u001b[K     |████████████████████████████████| 1.2 MB 13.2 MB/s \n",
            "\u001b[K     |████████████████████████████████| 562 kB 74.5 MB/s \n",
            "\u001b[K     |████████████████████████████████| 226 kB 71.4 MB/s \n",
            "\u001b[K     |████████████████████████████████| 79.9 MB 138 kB/s \n",
            "\u001b[K     |████████████████████████████████| 47.6 MB 1.4 MB/s \n",
            "\u001b[K     |████████████████████████████████| 29.2 MB 1.3 MB/s \n",
            "\u001b[K     |████████████████████████████████| 106 kB 74.3 MB/s \n",
            "\u001b[K     |████████████████████████████████| 55 kB 3.4 MB/s \n",
            "\u001b[K     |████████████████████████████████| 639 kB 73.5 MB/s \n",
            "\u001b[K     |████████████████████████████████| 131 kB 82.7 MB/s \n",
            "\u001b[K     |████████████████████████████████| 13.2 MB 84.5 MB/s \n",
            "\u001b[K     |████████████████████████████████| 83 kB 1.6 MB/s \n",
            "\u001b[K     |████████████████████████████████| 56 kB 3.7 MB/s \n",
            "\u001b[K     |████████████████████████████████| 54 kB 2.9 MB/s \n",
            "\u001b[K     |████████████████████████████████| 78 kB 6.5 MB/s \n",
            "\u001b[K     |████████████████████████████████| 77 kB 5.0 MB/s \n",
            "\u001b[K     |████████████████████████████████| 8.4 MB 64.4 MB/s \n",
            "\u001b[K     |████████████████████████████████| 79 kB 7.0 MB/s \n",
            "\u001b[K     |████████████████████████████████| 138 kB 70.1 MB/s \n",
            "\u001b[K     |████████████████████████████████| 241 kB 73.6 MB/s \n",
            "\u001b[K     |████████████████████████████████| 127 kB 76.8 MB/s \n",
            "\u001b[31mERROR: pip's dependency resolver does not currently take into account all the packages that are installed. This behaviour is the source of the following dependency conflicts.\n",
            "datascience 0.10.6 requires folium==0.2.1, but you have folium 0.8.3 which is incompatible.\u001b[0m\n",
            "\u001b[?25h"
          ]
        }
      ],
      "source": [
        "!pip -qqq install fiftyone"
      ]
    },
    {
      "cell_type": "markdown",
      "metadata": {
        "id": "pYhTgs3JSS_t"
      },
      "source": [
        "## General Dataset"
      ]
    },
    {
      "cell_type": "code",
      "execution_count": null,
      "metadata": {
        "colab": {
          "base_uri": "https://localhost:8080/"
        },
        "id": "vKQOoZb1MVXK",
        "outputId": "c9502f29-2d8f-4376-8da5-ed270db8ae3d"
      },
      "outputs": [
        {
          "name": "stdout",
          "output_type": "stream",
          "text": [
            "Downloading...\n",
            "From: https://drive.google.com/uc?id=1xx9BAvC_-8DgROSELUqty_QK_ch4DSd9\n",
            "To: /content/general_dataset.zip\n",
            "100% 13.2G/13.2G [01:41<00:00, 130MB/s]\n"
          ]
        }
      ],
      "source": [
        "!gdown --id 1xx9BAvC_-8DgROSELUqty_QK_ch4DSd9 -O general_dataset.zip"
      ]
    },
    {
      "cell_type": "code",
      "execution_count": null,
      "metadata": {
        "id": "xt9AeMElMcFS"
      },
      "outputs": [],
      "source": [
        "!unzip -oq /content/general_dataset.zip -d /content"
      ]
    },
    {
      "cell_type": "markdown",
      "metadata": {
        "id": "d5W7vUV_SWQr"
      },
      "source": [
        "## Training Tiles (1000x1000)"
      ]
    },
    {
      "cell_type": "code",
      "execution_count": 2,
      "metadata": {
        "colab": {
          "base_uri": "https://localhost:8080/"
        },
        "id": "LS0Znq3oNXpn",
        "outputId": "76b9ef9b-869d-4c5b-f5e7-0867939cdb6f"
      },
      "outputs": [
        {
          "output_type": "stream",
          "name": "stdout",
          "text": [
            "Downloading...\n",
            "From: https://drive.google.com/uc?id=1raU3uP7F_dimq5d9TTSSAkD3vNXpvulf\n",
            "To: /content/sub_frames_1000.zip\n",
            "100% 1.46G/1.46G [00:13<00:00, 105MB/s] \n"
          ]
        }
      ],
      "source": [
        "!gdown --id 1raU3uP7F_dimq5d9TTSSAkD3vNXpvulf -O /content/sub_frames_1000.zip\n",
        "!unzip -oq /content/sub_frames_1000.zip -d /content"
      ]
    },
    {
      "cell_type": "markdown",
      "source": [
        "## Training Tiles with Hard Negatives"
      ],
      "metadata": {
        "id": "q5j5ga1ijh8z"
      }
    },
    {
      "cell_type": "code",
      "source": [
        "!gdown --id 13Y1DUGlcg78LeqdVsnWuxqXELne6Tv6z -O /content/sub_frames_1000_hn.zip\n",
        "!unzip -oq /content/sub_frames_1000_hn.zip -d /content"
      ],
      "metadata": {
        "id": "mjeT80GHjnRJ",
        "outputId": "9efacdff-548d-432e-8a16-71673fd40647",
        "colab": {
          "base_uri": "https://localhost:8080/"
        }
      },
      "execution_count": 11,
      "outputs": [
        {
          "output_type": "stream",
          "name": "stdout",
          "text": [
            "Downloading...\n",
            "From: https://drive.google.com/uc?id=13Y1DUGlcg78LeqdVsnWuxqXELne6Tv6z\n",
            "To: /content/sub_frames_1000_hn.zip\n",
            "100% 507M/507M [00:02<00:00, 213MB/s]\n"
          ]
        }
      ]
    },
    {
      "cell_type": "code",
      "execution_count": 8,
      "metadata": {
        "colab": {
          "base_uri": "https://localhost:8080/"
        },
        "id": "t0n46MzBQNw6",
        "outputId": "24417b8d-8df7-4d77-ccb6-386142138582"
      },
      "outputs": [
        {
          "output_type": "stream",
          "name": "stdout",
          "text": [
            " 100% |███████████████| 2791/2791 [8.5s elapsed, 0s remaining, 289.9 samples/s]      \n"
          ]
        }
      ],
      "source": [
        "import fiftyone as fo\n",
        "\n",
        "# A name for the dataset\n",
        "name = \"subframe_1000_train\"\n",
        "\n",
        "# The directory containing the dataset to import\n",
        "dataset_dir = \"/content/sub_frames/train\"\n",
        "\n",
        "# The type of the dataset being imported\n",
        "dataset_type = fo.types.COCODetectionDataset  # for example\n",
        "\n",
        "dataset_train = fo.Dataset.from_dir(\n",
        "    data_path =dataset_dir,\n",
        "    labels_path = dataset_dir + '/coco_subframes.json',\n",
        "    dataset_type=dataset_type,\n",
        "    name=name\n",
        ")"
      ]
    },
    {
      "cell_type": "code",
      "source": [
        "import fiftyone as fo\n",
        "\n",
        "# A name for the dataset\n",
        "name = \"subframe_1000_train_hn\"\n",
        "\n",
        "# The directory containing the dataset to import\n",
        "dataset_dir = \"/content/train_hn\"\n",
        "\n",
        "# The type of the dataset being imported\n",
        "dataset_type = fo.types.COCODetectionDataset  # for example\n",
        "\n",
        "dataset_train_hn = fo.Dataset.from_dir(\n",
        "    data_path =dataset_dir,\n",
        "    labels_path = dataset_dir + '/coco_subframes.json',\n",
        "    dataset_type=dataset_type,\n",
        "    name=name\n",
        ")"
      ],
      "metadata": {
        "id": "7y0gL_fBj7Ms",
        "outputId": "26c60a19-ecb2-4254-bf8e-e25edc4f1b03",
        "colab": {
          "base_uri": "https://localhost:8080/"
        }
      },
      "execution_count": 12,
      "outputs": [
        {
          "output_type": "stream",
          "name": "stdout",
          "text": [
            " 100% |███████████████| 2868/2868 [8.2s elapsed, 0s remaining, 307.0 samples/s]      \n"
          ]
        }
      ]
    },
    {
      "cell_type": "code",
      "execution_count": null,
      "metadata": {
        "id": "wBcQbg2KL_W4"
      },
      "outputs": [],
      "source": [
        "import fiftyone as fo\n",
        "\n",
        "# A name for the dataset\n",
        "name = \"dataset-original\"\n",
        "\n",
        "# The directory containing the dataset to import\n",
        "dataset_dir = \"/content/general_dataset/train\"\n",
        "#dataset_dir = '/misc/home/visi/fouchesa/projets/output/images_sub'\n",
        "\n",
        "# The type of the dataset being imported\n",
        "dataset_type = fo.types.COCODetectionDataset  # for example\n",
        "\n",
        "dataset = fo.Dataset.from_dir(\n",
        "    data_path =dataset_dir,\n",
        "    labels_path = '/content/general_dataset/groundtruth/json/big_size/train_big_size_A_B_E_K_WH_WB.json',\n",
        "    #labels_path = '/misc/home/visi/fouchesa/projets/output/libra_rcnn_seed_516_train_big_size_A_B_E_K_WH_WB_NC.json',\n",
        "    dataset_type=dataset_type,\n",
        "    name=name\n",
        ")"
      ]
    },
    {
      "cell_type": "code",
      "execution_count": null,
      "metadata": {
        "colab": {
          "base_uri": "https://localhost:8080/"
        },
        "id": "kNSpjMd8PoNM",
        "outputId": "19c9474d-b994-4929-ffc9-8a9c3bb71286"
      },
      "outputs": [
        {
          "name": "stdout",
          "output_type": "stream",
          "text": [
            "Name:        my-dataset2\n",
            "Media type:  image\n",
            "Num samples: 928\n",
            "Persistent:  False\n",
            "Tags:        []\n",
            "Sample fields:\n",
            "    id:           fiftyone.core.fields.ObjectIdField\n",
            "    filepath:     fiftyone.core.fields.StringField\n",
            "    tags:         fiftyone.core.fields.ListField(fiftyone.core.fields.StringField)\n",
            "    metadata:     fiftyone.core.fields.EmbeddedDocumentField(fiftyone.core.metadata.Metadata)\n",
            "    ground_truth: fiftyone.core.fields.EmbeddedDocumentField(fiftyone.core.labels.Detections)\n"
          ]
        }
      ],
      "source": [
        "# Print some information about the dataset\n",
        "print(dataset)"
      ]
    },
    {
      "cell_type": "code",
      "execution_count": null,
      "metadata": {
        "colab": {
          "base_uri": "https://localhost:8080/"
        },
        "id": "uGKkihhKPqG8",
        "outputId": "34bb5fa5-f4a5-40b4-8b16-26b583511fdc"
      },
      "outputs": [
        {
          "name": "stdout",
          "output_type": "stream",
          "text": [
            "<Detection: {\n",
            "    'id': '61aa8eb463a4db10a9d785d3',\n",
            "    'attributes': BaseDict({}),\n",
            "    'tags': BaseList([]),\n",
            "    'label': 'Kob',\n",
            "    'bounding_box': BaseList([\n",
            "        0.4146666666666667,\n",
            "        0.08925,\n",
            "        0.005333333333333333,\n",
            "        0.0175,\n",
            "    ]),\n",
            "    'mask': None,\n",
            "    'confidence': None,\n",
            "    'index': None,\n",
            "    'supercategory': 'animal',\n",
            "    'iscrowd': 0,\n",
            "}>\n"
          ]
        }
      ],
      "source": [
        "# Print a ground truth detection\n",
        "sample = dataset.first()\n",
        "print(sample.ground_truth.detections[0])"
      ]
    },
    {
      "cell_type": "code",
      "execution_count": 14,
      "metadata": {
        "colab": {
          "base_uri": "https://localhost:8080/",
          "height": 821,
          "resources": {
            "https://localhost:5151/polling?sessionId=ed76868b-2b9e-42a9-bf33-3941221a9e60": {
              "data": "eyJtZXNzYWdlcyI6IFtdfQ==",
              "ok": true,
              "headers": [
                [
                  "access-control-allow-headers",
                  "x-requested-with"
                ],
                [
                  "content-type",
                  "text/html; charset=UTF-8"
                ]
              ],
              "status": 200,
              "status_text": ""
            }
          }
        },
        "id": "0tLF06qAPt6t",
        "outputId": "3f53e1de-04b4-4806-9a3d-22dfad061f5a"
      },
      "outputs": [
        {
          "output_type": "display_data",
          "data": {
            "text/html": [
              "\n",
              "<style>\n",
              "\n",
              "@import url(\"https://fonts.googleapis.com/css2?family=Palanquin&display=swap\");\n",
              "\n",
              "#focontainer-9d48bb3e-eac0-461f-aa7b-a6183d9cc3f1 {\n",
              "  position: relative;\n",
              "  display: block !important;\n",
              "}\n",
              "#foactivate-9d48bb3e-eac0-461f-aa7b-a6183d9cc3f1 {\n",
              "  font-weight: bold;\n",
              "  cursor: pointer;\n",
              "  font-size: 24px;\n",
              "  border-radius: 3px;\n",
              "  text-align: center;\n",
              "  padding: 0.5em;\n",
              "  color: rgb(255, 255, 255);\n",
              "  font-family: \"Palanquin\", sans-serif;\n",
              "  position: absolute;\n",
              "  left: 50%;\n",
              "  top: 50%;\n",
              "  width: 160px;\n",
              "  margin-left: -80px;\n",
              "  margin-top: -23px;\n",
              "  background: hsla(210,11%,15%, 0.8);\n",
              "  border: none;\n",
              "}\n",
              "#foactivate-9d48bb3e-eac0-461f-aa7b-a6183d9cc3f1:focus {\n",
              "  outline: none;\n",
              "}\n",
              "#fooverlay-9d48bb3e-eac0-461f-aa7b-a6183d9cc3f1 {\n",
              "  width: 100%;\n",
              "  height: 100%;\n",
              "  background: hsla(208, 7%, 46%, 0.7);\n",
              "  position: absolute;\n",
              "  top: 0;\n",
              "  left: 0;\n",
              "  display: none;\n",
              "  cursor: pointer;\n",
              "}\n",
              "</style>\n",
              "<div id=\"focontainer-9d48bb3e-eac0-461f-aa7b-a6183d9cc3f1\" style=\"display: none;\">\n",
              "   <div id=\"fooverlay-9d48bb3e-eac0-461f-aa7b-a6183d9cc3f1\">\n",
              "      <button id=\"foactivate-9d48bb3e-eac0-461f-aa7b-a6183d9cc3f1\" >Activate</button>\n",
              "   </div>\n",
              "</div>"
            ],
            "text/plain": [
              "<IPython.core.display.HTML object>"
            ]
          },
          "metadata": {}
        }
      ],
      "source": [
        "session = fo.launch_app(dataset_train_hn, height=800)"
      ]
    }
  ],
  "metadata": {
    "colab": {
      "name": "fiftyOne Demo.ipynb",
      "provenance": [],
      "include_colab_link": true
    },
    "kernelspec": {
      "display_name": "Python 3",
      "name": "python3"
    },
    "language_info": {
      "codemirror_mode": {
        "name": "ipython",
        "version": 3
      },
      "file_extension": ".py",
      "mimetype": "text/x-python",
      "name": "python",
      "nbconvert_exporter": "python",
      "pygments_lexer": "ipython3",
      "version": "3.7.10"
    }
  },
  "nbformat": 4,
  "nbformat_minor": 0
}