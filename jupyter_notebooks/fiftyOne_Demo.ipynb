{
  "nbformat": 4,
  "nbformat_minor": 0,
  "metadata": {
    "colab": {
      "name": "fiftyOne Demo.ipynb",
      "provenance": [],
      "authorship_tag": "ABX9TyOr4+t/EhHSgEIZZ7tskCyO",
      "include_colab_link": true
    },
    "kernelspec": {
      "name": "python3",
      "display_name": "Python 3"
    },
    "language_info": {
      "name": "python"
    }
  },
  "cells": [
    {
      "cell_type": "markdown",
      "metadata": {
        "id": "view-in-github",
        "colab_type": "text"
      },
      "source": [
        "<a href=\"https://colab.research.google.com/github/sfoucher/Masterclass-Biodiversity/blob/code-reorg/jupyter_notebooks/fiftyOne_Demo.ipynb\" target=\"_parent\"><img src=\"https://colab.research.google.com/assets/colab-badge.svg\" alt=\"Open In Colab\"/></a>"
      ]
    },
    {
      "cell_type": "code",
      "metadata": {
        "colab": {
          "base_uri": "https://localhost:8080/"
        },
        "id": "CCzVvObFLram",
        "outputId": "91c20723-a55b-41df-fba8-34f42c46465c"
      },
      "source": [
        "!pip -qq install fiftyone"
      ],
      "execution_count": 1,
      "outputs": [
        {
          "output_type": "stream",
          "name": "stdout",
          "text": [
            "\u001b[K     |████████████████████████████████| 1.2 MB 19.8 MB/s \n",
            "\u001b[K     |████████████████████████████████| 639 kB 36.3 MB/s \n",
            "\u001b[K     |████████████████████████████████| 562 kB 37.1 MB/s \n",
            "\u001b[K     |████████████████████████████████| 47.6 MB 2.1 MB/s \n",
            "\u001b[K     |████████████████████████████████| 13.2 MB 29.8 MB/s \n",
            "\u001b[K     |████████████████████████████████| 79.9 MB 1.3 MB/s \n",
            "\u001b[K     |████████████████████████████████| 226 kB 55.2 MB/s \n",
            "\u001b[K     |████████████████████████████████| 55 kB 4.2 MB/s \n",
            "\u001b[K     |████████████████████████████████| 29.2 MB 1.5 MB/s \n",
            "\u001b[K     |████████████████████████████████| 131 kB 73.3 MB/s \n",
            "\u001b[K     |████████████████████████████████| 106 kB 48.3 MB/s \n",
            "\u001b[K     |████████████████████████████████| 83 kB 1.7 MB/s \n",
            "\u001b[K     |████████████████████████████████| 56 kB 5.3 MB/s \n",
            "\u001b[K     |████████████████████████████████| 54 kB 4.5 MB/s \n",
            "\u001b[K     |████████████████████████████████| 78 kB 8.1 MB/s \n",
            "\u001b[K     |████████████████████████████████| 77 kB 7.3 MB/s \n",
            "\u001b[K     |████████████████████████████████| 79 kB 10.2 MB/s \n",
            "\u001b[K     |████████████████████████████████| 8.4 MB 40.7 MB/s \n",
            "\u001b[K     |████████████████████████████████| 138 kB 62.0 MB/s \n",
            "\u001b[K     |████████████████████████████████| 241 kB 53.5 MB/s \n",
            "\u001b[K     |████████████████████████████████| 127 kB 55.1 MB/s \n",
            "\u001b[31mERROR: pip's dependency resolver does not currently take into account all the packages that are installed. This behaviour is the source of the following dependency conflicts.\n",
            "datascience 0.10.6 requires folium==0.2.1, but you have folium 0.8.3 which is incompatible.\u001b[0m\n",
            "\u001b[?25h"
          ]
        }
      ]
    },
    {
      "cell_type": "markdown",
      "metadata": {
        "id": "pYhTgs3JSS_t"
      },
      "source": [
        "## General Dataset"
      ]
    },
    {
      "cell_type": "code",
      "metadata": {
        "colab": {
          "base_uri": "https://localhost:8080/"
        },
        "id": "vKQOoZb1MVXK",
        "outputId": "c9502f29-2d8f-4376-8da5-ed270db8ae3d"
      },
      "source": [
        "!gdown --id 1xx9BAvC_-8DgROSELUqty_QK_ch4DSd9 -O general_dataset.zip"
      ],
      "execution_count": 2,
      "outputs": [
        {
          "output_type": "stream",
          "name": "stdout",
          "text": [
            "Downloading...\n",
            "From: https://drive.google.com/uc?id=1xx9BAvC_-8DgROSELUqty_QK_ch4DSd9\n",
            "To: /content/general_dataset.zip\n",
            "100% 13.2G/13.2G [01:41<00:00, 130MB/s]\n"
          ]
        }
      ]
    },
    {
      "cell_type": "code",
      "metadata": {
        "id": "xt9AeMElMcFS"
      },
      "source": [
        "!unzip -oq /content/general_dataset.zip -d /content"
      ],
      "execution_count": 3,
      "outputs": []
    },
    {
      "cell_type": "markdown",
      "metadata": {
        "id": "d5W7vUV_SWQr"
      },
      "source": [
        "## Training Tiles (1000x1000)"
      ]
    },
    {
      "cell_type": "code",
      "metadata": {
        "colab": {
          "base_uri": "https://localhost:8080/"
        },
        "id": "LS0Znq3oNXpn",
        "outputId": "77d344bd-2cd5-42c6-b3ca-4ab0302e397b"
      },
      "source": [
        "!gdown --id 1raU3uP7F_dimq5d9TTSSAkD3vNXpvulf -O /content/sub_frames_1000.zip\n",
        "!unzip -oq /content/sub_frames_1000.zip -d /content"
      ],
      "execution_count": 4,
      "outputs": [
        {
          "output_type": "stream",
          "name": "stdout",
          "text": [
            "Downloading...\n",
            "From: https://drive.google.com/uc?id=1raU3uP7F_dimq5d9TTSSAkD3vNXpvulf\n",
            "To: /content/sub_frames_1000.zip\n",
            "100% 1.46G/1.46G [00:12<00:00, 119MB/s]\n"
          ]
        }
      ]
    },
    {
      "cell_type": "markdown",
      "metadata": {
        "id": "crZSkPyDSdTK"
      },
      "source": [
        "## Model"
      ]
    },
    {
      "cell_type": "code",
      "metadata": {
        "colab": {
          "base_uri": "https://localhost:8080/"
        },
        "id": "GZLiMtpcSgVy",
        "outputId": "5a367e4f-5bb5-4429-d0b7-0473c7ade431"
      },
      "source": [
        "!gdown --id 1iJ1kvVkz3z6PtSHXpBVg8AQ_GW9Q75Qj"
      ],
      "execution_count": 17,
      "outputs": [
        {
          "output_type": "stream",
          "name": "stdout",
          "text": [
            "Downloading...\n",
            "From: https://drive.google.com/uc?id=1iJ1kvVkz3z6PtSHXpBVg8AQ_GW9Q75Qj\n",
            "To: /content/epoch_12.pth\n",
            "100% 485M/485M [00:04<00:00, 105MB/s]\n"
          ]
        }
      ]
    },
    {
      "cell_type": "code",
      "metadata": {
        "colab": {
          "base_uri": "https://localhost:8080/"
        },
        "id": "t0n46MzBQNw6",
        "outputId": "d1f6badd-9bb0-4de8-bdf5-19baa1bcd75d"
      },
      "source": [
        "import fiftyone as fo\n",
        "\n",
        "# A name for the dataset\n",
        "name = \"subframe_1000\"\n",
        "\n",
        "# The directory containing the dataset to import\n",
        "dataset_dir = \"/content/sub_frames/train\"\n",
        "\n",
        "# The type of the dataset being imported\n",
        "dataset_type = fo.types.COCODetectionDataset  # for example\n",
        "\n",
        "dataset_train = fo.Dataset.from_dir(\n",
        "    data_path =dataset_dir,\n",
        "    labels_path = dataset_dir,\n",
        "    dataset_type=dataset_type,\n",
        "    name=name\n",
        ")"
      ],
      "execution_count": 15,
      "outputs": [
        {
          "output_type": "stream",
          "name": "stdout",
          "text": [
            " 100% |█████████████████████| 0/0 [1.1ms elapsed, ? remaining, ? samples/s] \n"
          ]
        }
      ]
    },
    {
      "cell_type": "code",
      "metadata": {
        "colab": {
          "base_uri": "https://localhost:8080/"
        },
        "id": "wBcQbg2KL_W4",
        "outputId": "f33ff36f-a2fc-46bf-d985-4c6059965fa6"
      },
      "source": [
        "import fiftyone as fo\n",
        "\n",
        "# A name for the dataset\n",
        "name = \"my-dataset2\"\n",
        "\n",
        "# The directory containing the dataset to import\n",
        "dataset_dir = \"/content/general_dataset/train\"\n",
        "\n",
        "# The type of the dataset being imported\n",
        "dataset_type = fo.types.COCODetectionDataset  # for example\n",
        "\n",
        "dataset = fo.Dataset.from_dir(\n",
        "    data_path =dataset_dir,\n",
        "    labels_path = '/content/general_dataset/groundtruth/json/big_size/train_big_size_A_B_E_K_WH_WB.json',\n",
        "    dataset_type=dataset_type,\n",
        "    name=name\n",
        ")"
      ],
      "execution_count": 9,
      "outputs": [
        {
          "output_type": "stream",
          "name": "stdout",
          "text": [
            " 100% |█████████████████| 928/928 [6.5s elapsed, 0s remaining, 136.4 samples/s]      \n"
          ]
        }
      ]
    },
    {
      "cell_type": "code",
      "metadata": {
        "colab": {
          "base_uri": "https://localhost:8080/"
        },
        "id": "kNSpjMd8PoNM",
        "outputId": "19c9474d-b994-4929-ffc9-8a9c3bb71286"
      },
      "source": [
        "# Print some information about the dataset\n",
        "print(dataset)"
      ],
      "execution_count": 10,
      "outputs": [
        {
          "output_type": "stream",
          "name": "stdout",
          "text": [
            "Name:        my-dataset2\n",
            "Media type:  image\n",
            "Num samples: 928\n",
            "Persistent:  False\n",
            "Tags:        []\n",
            "Sample fields:\n",
            "    id:           fiftyone.core.fields.ObjectIdField\n",
            "    filepath:     fiftyone.core.fields.StringField\n",
            "    tags:         fiftyone.core.fields.ListField(fiftyone.core.fields.StringField)\n",
            "    metadata:     fiftyone.core.fields.EmbeddedDocumentField(fiftyone.core.metadata.Metadata)\n",
            "    ground_truth: fiftyone.core.fields.EmbeddedDocumentField(fiftyone.core.labels.Detections)\n"
          ]
        }
      ]
    },
    {
      "cell_type": "code",
      "metadata": {
        "colab": {
          "base_uri": "https://localhost:8080/"
        },
        "id": "uGKkihhKPqG8",
        "outputId": "34bb5fa5-f4a5-40b4-8b16-26b583511fdc"
      },
      "source": [
        "# Print a ground truth detection\n",
        "sample = dataset.first()\n",
        "print(sample.ground_truth.detections[0])"
      ],
      "execution_count": 11,
      "outputs": [
        {
          "output_type": "stream",
          "name": "stdout",
          "text": [
            "<Detection: {\n",
            "    'id': '61aa8eb463a4db10a9d785d3',\n",
            "    'attributes': BaseDict({}),\n",
            "    'tags': BaseList([]),\n",
            "    'label': 'Kob',\n",
            "    'bounding_box': BaseList([\n",
            "        0.4146666666666667,\n",
            "        0.08925,\n",
            "        0.005333333333333333,\n",
            "        0.0175,\n",
            "    ]),\n",
            "    'mask': None,\n",
            "    'confidence': None,\n",
            "    'index': None,\n",
            "    'supercategory': 'animal',\n",
            "    'iscrowd': 0,\n",
            "}>\n"
          ]
        }
      ]
    },
    {
      "cell_type": "code",
      "metadata": {
        "colab": {
          "resources": {
            "https://localhost:5151/polling?sessionId=1efc48cd-5d02-4d68-84f0-a272756098cf": {
              "data": "eyJtZXNzYWdlcyI6IFtdfQ==",
              "ok": true,
              "headers": [
                [
                  "access-control-allow-headers",
                  "x-requested-with"
                ],
                [
                  "content-type",
                  "text/html; charset=UTF-8"
                ]
              ],
              "status": 200,
              "status_text": ""
            }
          },
          "base_uri": "https://localhost:8080/",
          "height": 821
        },
        "id": "0tLF06qAPt6t",
        "outputId": "7bbe1cae-18ff-45b6-8f94-b6e369b1ecfd"
      },
      "source": [
        "session = fo.launch_app(dataset)"
      ],
      "execution_count": 12,
      "outputs": [
        {
          "output_type": "display_data",
          "data": {
            "text/html": [
              "\n",
              "<style>\n",
              "\n",
              "@import url(\"https://fonts.googleapis.com/css2?family=Palanquin&display=swap\");\n",
              "\n",
              "#focontainer-6ca92cfb-0e68-45b0-be42-73f228086e47 {\n",
              "  position: relative;\n",
              "  display: block !important;\n",
              "}\n",
              "#foactivate-6ca92cfb-0e68-45b0-be42-73f228086e47 {\n",
              "  font-weight: bold;\n",
              "  cursor: pointer;\n",
              "  font-size: 24px;\n",
              "  border-radius: 3px;\n",
              "  text-align: center;\n",
              "  padding: 0.5em;\n",
              "  color: rgb(255, 255, 255);\n",
              "  font-family: \"Palanquin\", sans-serif;\n",
              "  position: absolute;\n",
              "  left: 50%;\n",
              "  top: 50%;\n",
              "  width: 160px;\n",
              "  margin-left: -80px;\n",
              "  margin-top: -23px;\n",
              "  background: hsla(210,11%,15%, 0.8);\n",
              "  border: none;\n",
              "}\n",
              "#foactivate-6ca92cfb-0e68-45b0-be42-73f228086e47:focus {\n",
              "  outline: none;\n",
              "}\n",
              "#fooverlay-6ca92cfb-0e68-45b0-be42-73f228086e47 {\n",
              "  width: 100%;\n",
              "  height: 100%;\n",
              "  background: hsla(208, 7%, 46%, 0.7);\n",
              "  position: absolute;\n",
              "  top: 0;\n",
              "  left: 0;\n",
              "  display: none;\n",
              "  cursor: pointer;\n",
              "}\n",
              "</style>\n",
              "<div id=\"focontainer-6ca92cfb-0e68-45b0-be42-73f228086e47\" style=\"display: none;\">\n",
              "   <div id=\"fooverlay-6ca92cfb-0e68-45b0-be42-73f228086e47\">\n",
              "      <button id=\"foactivate-6ca92cfb-0e68-45b0-be42-73f228086e47\" >Activate</button>\n",
              "   </div>\n",
              "</div>"
            ],
            "text/plain": [
              "<IPython.core.display.HTML object>"
            ]
          },
          "metadata": {}
        }
      ]
    }
  ]
}