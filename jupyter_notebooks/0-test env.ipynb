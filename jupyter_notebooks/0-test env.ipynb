{
 "cells": [
  {
   "cell_type": "markdown",
   "metadata": {
    "id": "AfC7bg5fYTN0"
   },
   "source": [
    "# Step 01 - Testing the environment"
   ]
  },
  {
   "cell_type": "code",
   "execution_count": 1,
   "metadata": {},
   "outputs": [
    {
     "name": "stdout",
     "output_type": "stream",
     "text": [
      "nvcc: NVIDIA (R) Cuda compiler driver\n",
      "Copyright (c) 2005-2019 NVIDIA Corporation\n",
      "Built on Sun_Jul_28_19:07:16_PDT_2019\n",
      "Cuda compilation tools, release 10.1, V10.1.243\n",
      "Mon Feb 28 21:00:29 2022       \n",
      "+-----------------------------------------------------------------------------+\n",
      "| NVIDIA-SMI 510.47.03    Driver Version: 511.65       CUDA Version: 11.6     |\n",
      "|-------------------------------+----------------------+----------------------+\n",
      "| GPU  Name        Persistence-M| Bus-Id        Disp.A | Volatile Uncorr. ECC |\n",
      "| Fan  Temp  Perf  Pwr:Usage/Cap|         Memory-Usage | GPU-Util  Compute M. |\n",
      "|                               |                      |               MIG M. |\n",
      "|===============================+======================+======================|\n",
      "|   0  NVIDIA GeForce ...  On   | 00000000:09:00.0  On |                  N/A |\n",
      "|  0%   48C    P8    17W / 170W |   1566MiB / 12288MiB |     54%      Default |\n",
      "|                               |                      |                  N/A |\n",
      "+-------------------------------+----------------------+----------------------+\n",
      "                                                                               \n",
      "+-----------------------------------------------------------------------------+\n",
      "| Processes:                                                                  |\n",
      "|  GPU   GI   CI        PID   Type   Process name                  GPU Memory |\n",
      "|        ID   ID                                                   Usage      |\n",
      "|=============================================================================|\n",
      "|  No running processes found                                                 |\n",
      "+-----------------------------------------------------------------------------+\n"
     ]
    }
   ],
   "source": [
    "# Checking the version of the NVIDIA CUDA Compiler (NVCC).\n",
    "!nvcc --version\n",
    "\n",
    "# Checking the NVIDIA System Management Interface (NVIDIA-SMI).\n",
    "!nvidia-smi"
   ]
  },
  {
   "cell_type": "code",
   "execution_count": 2,
   "metadata": {},
   "outputs": [
    {
     "name": "stderr",
     "output_type": "stream",
     "text": [
      "/opt/conda/lib/python3.7/site-packages/tqdm/auto.py:22: TqdmWarning: IProgress not found. Please update jupyter and ipywidgets. See https://ipywidgets.readthedocs.io/en/stable/user_install.html\n",
      "  from .autonotebook import tqdm as notebook_tqdm\n"
     ]
    },
    {
     "name": "stdout",
     "output_type": "stream",
     "text": [
      "Torch version : 1.6.0\n",
      "Torchvision version : 0.7.0\n",
      "CUDA availability : True\n",
      "\n",
      "MMDetection version : 2.21.0\n",
      "\n",
      "MMCV CUDA compiler version : GCC 7.3\n",
      "MMCV Compiler version : 10.1\n"
     ]
    }
   ],
   "source": [
    "# Checking PyTorch installation.\n",
    "import torch, torchvision\n",
    "print(\"Torch version: {}\\n\"\n",
    "      \"Torchvision version: {}\\n\"\n",
    "      \"CUDA availability: {}\\n\".format(torch.__version__, torchvision.__version__, torch.cuda.is_available()))\n",
    "\n",
    "# Checking MMDetection installation.\n",
    "import mmdet\n",
    "print(\"MMDetection version: {}\\n\".format(mmdet.__version__))\n",
    "\n",
    "# Checking MMCV installation.\n",
    "from mmcv.ops import get_compiling_cuda_version, get_compiler_version\n",
    "print(\"MMCV CUDA compiler version: {}\\n\"\n",
    "      \"MMCV Compiler version: {}\".format(get_compiler_version(), get_compiling_cuda_version()))"
   ]
  },
  {
   "cell_type": "code",
   "execution_count": 3,
   "metadata": {},
   "outputs": [
    {
     "name": "stdout",
     "output_type": "stream",
     "text": [
      "/opt/conda/lib/python3.7/site-packages/torch/cuda/__init__.py:125: UserWarning: \n",
      "NVIDIA GeForce RTX 3060 with CUDA capability sm_86 is not compatible with the current PyTorch installation.\n",
      "The current PyTorch install supports CUDA capabilities sm_37 sm_50 sm_60 sm_61 sm_70 sm_75 compute_37.\n",
      "If you want to use the NVIDIA GeForce RTX 3060 GPU with PyTorch, please check the instructions at https://pytorch.org/get-started/locally/\n",
      "\n",
      "  warnings.warn(incompatible_device_warn.format(device_name, capability, \" \".join(arch_list), device_name))\n",
      "sys.platform: linux\n",
      "Python: 3.7.12 | packaged by conda-forge | (default, Oct 26 2021, 06:08:21) [GCC 9.4.0]\n",
      "CUDA available: True\n",
      "GPU 0: NVIDIA GeForce RTX 3060\n",
      "CUDA_HOME: /usr/local/cuda\n",
      "NVCC: Cuda compilation tools, release 10.1, V10.1.243\n",
      "GCC: gcc (Ubuntu 7.4.0-1ubuntu1~18.04.1) 7.4.0\n",
      "PyTorch: 1.6.0\n",
      "PyTorch compiling details: PyTorch built with:\n",
      "  - GCC 7.3\n",
      "  - C++ Version: 201402\n",
      "  - Intel(R) Math Kernel Library Version 2020.0.2 Product Build 20200624 for Intel(R) 64 architecture applications\n",
      "  - Intel(R) MKL-DNN v1.5.0 (Git Hash e2ac1fac44c5078ca927cb9b90e1b3066a0b2ed0)\n",
      "  - OpenMP 201511 (a.k.a. OpenMP 4.5)\n",
      "  - NNPACK is enabled\n",
      "  - CPU capability usage: AVX2\n",
      "  - CUDA Runtime 10.1\n",
      "  - NVCC architecture flags: -gencode;arch=compute_37,code=sm_37;-gencode;arch=compute_50,code=sm_50;-gencode;arch=compute_60,code=sm_60;-gencode;arch=compute_61,code=sm_61;-gencode;arch=compute_70,code=sm_70;-gencode;arch=compute_75,code=sm_75;-gencode;arch=compute_37,code=compute_37\n",
      "  - CuDNN 7.6.3\n",
      "  - Magma 2.5.2\n",
      "  - Build settings: BLAS=MKL, BUILD_TYPE=Release, CXX_FLAGS= -Wno-deprecated -fvisibility-inlines-hidden -DUSE_PTHREADPOOL -fopenmp -DNDEBUG -DUSE_FBGEMM -DUSE_QNNPACK -DUSE_PYTORCH_QNNPACK -DUSE_XNNPACK -DUSE_VULKAN_WRAPPER -O2 -fPIC -Wno-narrowing -Wall -Wextra -Werror=return-type -Wno-missing-field-initializers -Wno-type-limits -Wno-array-bounds -Wno-unknown-pragmas -Wno-sign-compare -Wno-unused-parameter -Wno-unused-variable -Wno-unused-function -Wno-unused-result -Wno-unused-local-typedefs -Wno-strict-overflow -Wno-strict-aliasing -Wno-error=deprecated-declarations -Wno-stringop-overflow -Wno-error=pedantic -Wno-error=redundant-decls -Wno-error=old-style-cast -fdiagnostics-color=always -faligned-new -Wno-unused-but-set-variable -Wno-maybe-uninitialized -fno-math-errno -fno-trapping-math -Werror=format -Wno-stringop-overflow, PERF_WITH_AVX=1, PERF_WITH_AVX2=1, PERF_WITH_AVX512=1, USE_CUDA=ON, USE_EXCEPTION_PTR=1, USE_GFLAGS=OFF, USE_GLOG=OFF, USE_MKL=ON, USE_MKLDNN=ON, USE_MPI=OFF, USE_NCCL=ON, USE_NNPACK=ON, USE_OPENMP=ON, USE_STATIC_DISPATCH=OFF, \n",
      "\n",
      "TorchVision: 0.7.0\n",
      "OpenCV: 4.5.5\n",
      "MMCV: 1.3.17\n",
      "MMCV Compiler: GCC 7.3\n",
      "MMCV CUDA Compiler: 10.1\n",
      "MMDetection: 2.21.0+6188823\n"
     ]
    }
   ],
   "source": [
    "# Running \"collect_env.py\" script to validate the compatibility of the environment.\n",
    "!python /mmdetection/mmdet/utils/collect_env.py"
   ]
  },
  {
   "cell_type": "code",
   "execution_count": 4,
   "metadata": {},
   "outputs": [
    {
     "name": "stdout",
     "output_type": "stream",
     "text": [
      "Collecting package metadata (current_repodata.json): done\n",
      "Solving environment: done\n",
      "\n",
      "## Package Plan ##\n",
      "\n",
      "  environment location: /opt/conda\n",
      "\n",
      "  added / updated specs:\n",
      "    - albumentations\n",
      "\n",
      "\n",
      "The following packages will be UPDATED:\n",
      "\n",
      "  ca-certificates    anaconda::ca-certificates-2020.10.14-0 --> conda-forge::ca-certificates-2021.10.8-ha878542_0\n",
      "  certifi                anaconda::certifi-2020.6.20-py37_0 --> conda-forge::certifi-2021.10.8-py37h89c1867_1\n",
      "\n",
      "The following packages will be SUPERSEDED by a higher-priority channel:\n",
      "\n",
      "  conda              pkgs/main::conda-4.11.0-py37h06a4308_0 --> conda-forge::conda-4.11.0-py37h89c1867_0\n",
      "\n",
      "\n",
      "Preparing transaction: done\n",
      "Verifying transaction: done\n",
      "Executing transaction: done\n"
     ]
    }
   ],
   "source": [
    "#TODO: The content of this cell should be moved to the Docker file.\n",
    "# Installing the \"albumentations\" module using Conda.\n",
    "!conda install -c conda-forge albumentations -y"
   ]
  },
  {
   "cell_type": "code",
   "execution_count": 5,
   "metadata": {},
   "outputs": [
    {
     "name": "stdout",
     "output_type": "stream",
     "text": [
      "Collecting package metadata (current_repodata.json): done\n",
      "Solving environment: done\n",
      "\n",
      "## Package Plan ##\n",
      "\n",
      "  environment location: /opt/conda\n",
      "\n",
      "  added / updated specs:\n",
      "    - pandas\n",
      "\n",
      "\n",
      "The following packages will be SUPERSEDED by a higher-priority channel:\n",
      "\n",
      "  ca-certificates    conda-forge::ca-certificates-2021.10.~ --> anaconda::ca-certificates-2020.10.14-0\n",
      "  certifi            conda-forge::certifi-2021.10.8-py37h8~ --> anaconda::certifi-2020.6.20-py37_0\n",
      "  conda              conda-forge::conda-4.11.0-py37h89c186~ --> pkgs/main::conda-4.11.0-py37h06a4308_0\n",
      "\n",
      "\n",
      "Preparing transaction: done\n",
      "Verifying transaction: done\n",
      "Executing transaction: done\n"
     ]
    }
   ],
   "source": [
    "#TODO: The content of this cell should be moved to the Docker file.\n",
    "# Installing the \"pandas\" module using Conda.\n",
    "!conda install -c anaconda pandas -y"
   ]
  },
  {
   "cell_type": "code",
   "execution_count": 7,
   "metadata": {},
   "outputs": [
    {
     "name": "stdout",
     "output_type": "stream",
     "text": [
      "Collecting package metadata (current_repodata.json): done\n",
      "Solving environment: done\n",
      "\n",
      "## Package Plan ##\n",
      "\n",
      "  environment location: /opt/conda\n",
      "\n",
      "  added / updated specs:\n",
      "    - wandb\n",
      "\n",
      "\n",
      "The following packages will be downloaded:\n",
      "\n",
      "    package                    |            build\n",
      "    ---------------------------|-----------------\n",
      "    click-7.1.2                |     pyh9f0ad1d_0          64 KB  conda-forge\n",
      "    configparser-5.2.0         |     pyhd8ed1ab_0          21 KB  conda-forge\n",
      "    dataclasses-0.8            |     pyhc8e2a94_3          10 KB  conda-forge\n",
      "    docker-pycreds-0.4.0       |             py_0          11 KB  conda-forge\n",
      "    gitdb-4.0.9                |     pyhd8ed1ab_0          46 KB  conda-forge\n",
      "    gitpython-3.1.27           |     pyhd8ed1ab_0         123 KB  conda-forge\n",
      "    libprotobuf-3.19.4         |       h780b84a_0         2.6 MB  conda-forge\n",
      "    pathtools-0.1.2            |             py_1           8 KB  conda-forge\n",
      "    promise-2.3                |   py37h89c1867_5          35 KB  conda-forge\n",
      "    protobuf-3.19.4            |   py37hcd2ae1e_0         337 KB  conda-forge\n",
      "    sentry-sdk-1.5.6           |     pyhd8ed1ab_0          90 KB  conda-forge\n",
      "    shortuuid-1.0.8            |   py37h89c1867_0          17 KB  conda-forge\n",
      "    smmap-3.0.5                |     pyh44b312d_0          22 KB  conda-forge\n",
      "    subprocess32-3.5.4         |             py_1          11 KB  conda-forge\n",
      "    termcolor-1.1.0            |             py_2           6 KB  conda-forge\n",
      "    typing_extensions-4.1.1    |     pyha770c72_0          29 KB  conda-forge\n",
      "    wandb-0.12.10              |     pyhd8ed1ab_0         1.3 MB  conda-forge\n",
      "    yaspin-2.1.0               |     pyhd8ed1ab_0          19 KB  conda-forge\n",
      "    ------------------------------------------------------------\n",
      "                                           Total:         4.7 MB\n",
      "\n",
      "The following NEW packages will be INSTALLED:\n",
      "\n",
      "  click              conda-forge/noarch::click-7.1.2-pyh9f0ad1d_0\n",
      "  configparser       conda-forge/noarch::configparser-5.2.0-pyhd8ed1ab_0\n",
      "  dataclasses        conda-forge/noarch::dataclasses-0.8-pyhc8e2a94_3\n",
      "  docker-pycreds     conda-forge/noarch::docker-pycreds-0.4.0-py_0\n",
      "  gitdb              conda-forge/noarch::gitdb-4.0.9-pyhd8ed1ab_0\n",
      "  gitpython          conda-forge/noarch::gitpython-3.1.27-pyhd8ed1ab_0\n",
      "  libprotobuf        conda-forge/linux-64::libprotobuf-3.19.4-h780b84a_0\n",
      "  pathtools          conda-forge/noarch::pathtools-0.1.2-py_1\n",
      "  promise            conda-forge/linux-64::promise-2.3-py37h89c1867_5\n",
      "  protobuf           conda-forge/linux-64::protobuf-3.19.4-py37hcd2ae1e_0\n",
      "  sentry-sdk         conda-forge/noarch::sentry-sdk-1.5.6-pyhd8ed1ab_0\n",
      "  shortuuid          conda-forge/linux-64::shortuuid-1.0.8-py37h89c1867_0\n",
      "  smmap              conda-forge/noarch::smmap-3.0.5-pyh44b312d_0\n",
      "  subprocess32       conda-forge/noarch::subprocess32-3.5.4-py_1\n",
      "  termcolor          conda-forge/noarch::termcolor-1.1.0-py_2\n",
      "  typing_extensions  conda-forge/noarch::typing_extensions-4.1.1-pyha770c72_0\n",
      "  wandb              conda-forge/noarch::wandb-0.12.10-pyhd8ed1ab_0\n",
      "  yaspin             conda-forge/noarch::yaspin-2.1.0-pyhd8ed1ab_0\n",
      "\n",
      "The following packages will be UPDATED:\n",
      "\n",
      "  ca-certificates    anaconda::ca-certificates-2020.10.14-0 --> conda-forge::ca-certificates-2021.10.8-ha878542_0\n",
      "  certifi                anaconda::certifi-2020.6.20-py37_0 --> conda-forge::certifi-2021.10.8-py37h89c1867_1\n",
      "\n",
      "The following packages will be SUPERSEDED by a higher-priority channel:\n",
      "\n",
      "  conda              pkgs/main::conda-4.11.0-py37h06a4308_0 --> conda-forge::conda-4.11.0-py37h89c1867_0\n",
      "\n",
      "\n",
      "\n",
      "Downloading and Extracting Packages\n",
      "libprotobuf-3.19.4   | 2.6 MB    | ##################################### | 100% \n",
      "promise-2.3          | 35 KB     | ##################################### | 100% \n",
      "termcolor-1.1.0      | 6 KB      | ##################################### | 100% \n",
      "protobuf-3.19.4      | 337 KB    | ##################################### | 100% \n",
      "sentry-sdk-1.5.6     | 90 KB     | ##################################### | 100% \n",
      "typing_extensions-4. | 29 KB     | ##################################### | 100% \n",
      "gitdb-4.0.9          | 46 KB     | ##################################### | 100% \n",
      "pathtools-0.1.2      | 8 KB      | ##################################### | 100% \n",
      "configparser-5.2.0   | 21 KB     | ##################################### | 100% \n",
      "yaspin-2.1.0         | 19 KB     | ##################################### | 100% \n",
      "shortuuid-1.0.8      | 17 KB     | ##################################### | 100% \n",
      "click-7.1.2          | 64 KB     | ##################################### | 100% \n",
      "subprocess32-3.5.4   | 11 KB     | ##################################### | 100% \n",
      "dataclasses-0.8      | 10 KB     | ##################################### | 100% \n",
      "smmap-3.0.5          | 22 KB     | ##################################### | 100% \n",
      "wandb-0.12.10        | 1.3 MB    | ##################################### | 100% \n",
      "gitpython-3.1.27     | 123 KB    | ##################################### | 100% \n",
      "docker-pycreds-0.4.0 | 11 KB     | ##################################### | 100% \n",
      "Preparing transaction: done\n",
      "Verifying transaction: done\n",
      "Executing transaction: done\n"
     ]
    }
   ],
   "source": [
    "#TODO: The content of this cell should be moved to the Docker file.\n",
    "# Installing the \"wandb\" module using Conda.\n",
    "!conda install -c conda-forge wandb -y"
   ]
  }
 ],
 "metadata": {
  "colab": {
   "authorship_tag": "ABX9TyOB4ljirr/lwScSJKJp9cMY",
   "name": "export_subframes.ipynb",
   "provenance": [],
   "toc_visible": true
  },
  "kernelspec": {
   "display_name": "Python 3 (ipykernel)",
   "language": "python",
   "name": "python3"
  },
  "language_info": {
   "codemirror_mode": {
    "name": "ipython",
    "version": 3
   },
   "file_extension": ".py",
   "mimetype": "text/x-python",
   "name": "python",
   "nbconvert_exporter": "python",
   "pygments_lexer": "ipython3",
   "version": "3.7.12"
  }
 },
 "nbformat": 4,
 "nbformat_minor": 4
}
