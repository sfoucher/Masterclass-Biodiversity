{
  "nbformat": 4,
  "nbformat_minor": 0,
  "metadata": {
    "colab": {
      "name": "colab setup.ipynb",
      "provenance": [],
      "authorship_tag": "ABX9TyP7D3n9t2y+Z97CuKnq6P9U",
      "include_colab_link": true
    },
    "kernelspec": {
      "name": "python3",
      "display_name": "Python 3"
    },
    "language_info": {
      "name": "python"
    },
    "accelerator": "GPU"
  },
  "cells": [
    {
      "cell_type": "markdown",
      "metadata": {
        "id": "view-in-github",
        "colab_type": "text"
      },
      "source": [
        "<a href=\"https://colab.research.google.com/github/sfoucher/Masterclass-Biodiversity/blob/code-reorg/jupyter_notebooks/colab_setup.ipynb\" target=\"_parent\"><img src=\"https://colab.research.google.com/assets/colab-badge.svg\" alt=\"Open In Colab\"/></a>"
      ]
    },
    {
      "cell_type": "markdown",
      "metadata": {
        "id": "nj8jdkRIOQUu"
      },
      "source": [
        "Installing mmdetection in colab can be tricky.\n",
        "\n",
        "First make sure you have a GPU:"
      ]
    },
    {
      "cell_type": "code",
      "metadata": {
        "colab": {
          "base_uri": "https://localhost:8080/"
        },
        "id": "_ooWgZZgOJHb",
        "outputId": "a523051e-3296-4517-c078-fbd2eeb5e3ce"
      },
      "source": [
        "!nvidia-smi\n",
        "!lscpu"
      ],
      "execution_count": 2,
      "outputs": [
        {
          "output_type": "stream",
          "name": "stdout",
          "text": [
            "Thu Dec  2 15:20:56 2021       \n",
            "+-----------------------------------------------------------------------------+\n",
            "| NVIDIA-SMI 495.44       Driver Version: 460.32.03    CUDA Version: 11.2     |\n",
            "|-------------------------------+----------------------+----------------------+\n",
            "| GPU  Name        Persistence-M| Bus-Id        Disp.A | Volatile Uncorr. ECC |\n",
            "| Fan  Temp  Perf  Pwr:Usage/Cap|         Memory-Usage | GPU-Util  Compute M. |\n",
            "|                               |                      |               MIG M. |\n",
            "|===============================+======================+======================|\n",
            "|   0  Tesla P100-PCIE...  Off  | 00000000:00:04.0 Off |                    0 |\n",
            "| N/A   36C    P0    28W / 250W |      0MiB / 16280MiB |      0%      Default |\n",
            "|                               |                      |                  N/A |\n",
            "+-------------------------------+----------------------+----------------------+\n",
            "                                                                               \n",
            "+-----------------------------------------------------------------------------+\n",
            "| Processes:                                                                  |\n",
            "|  GPU   GI   CI        PID   Type   Process name                  GPU Memory |\n",
            "|        ID   ID                                                   Usage      |\n",
            "|=============================================================================|\n",
            "|  No running processes found                                                 |\n",
            "+-----------------------------------------------------------------------------+\n",
            "Architecture:        x86_64\n",
            "CPU op-mode(s):      32-bit, 64-bit\n",
            "Byte Order:          Little Endian\n",
            "CPU(s):              2\n",
            "On-line CPU(s) list: 0,1\n",
            "Thread(s) per core:  2\n",
            "Core(s) per socket:  1\n",
            "Socket(s):           1\n",
            "NUMA node(s):        1\n",
            "Vendor ID:           GenuineIntel\n",
            "CPU family:          6\n",
            "Model:               79\n",
            "Model name:          Intel(R) Xeon(R) CPU @ 2.20GHz\n",
            "Stepping:            0\n",
            "CPU MHz:             2199.998\n",
            "BogoMIPS:            4399.99\n",
            "Hypervisor vendor:   KVM\n",
            "Virtualization type: full\n",
            "L1d cache:           32K\n",
            "L1i cache:           32K\n",
            "L2 cache:            256K\n",
            "L3 cache:            56320K\n",
            "NUMA node0 CPU(s):   0,1\n",
            "Flags:               fpu vme de pse tsc msr pae mce cx8 apic sep mtrr pge mca cmov pat pse36 clflush mmx fxsr sse sse2 ss ht syscall nx pdpe1gb rdtscp lm constant_tsc rep_good nopl xtopology nonstop_tsc cpuid tsc_known_freq pni pclmulqdq ssse3 fma cx16 pcid sse4_1 sse4_2 x2apic movbe popcnt aes xsave avx f16c rdrand hypervisor lahf_lm abm 3dnowprefetch invpcid_single ssbd ibrs ibpb stibp fsgsbase tsc_adjust bmi1 hle avx2 smep bmi2 erms invpcid rtm rdseed adx smap xsaveopt arat md_clear arch_capabilities\n"
          ]
        }
      ]
    },
    {
      "cell_type": "code",
      "metadata": {
        "colab": {
          "base_uri": "https://localhost:8080/"
        },
        "id": "zwUSDB-IHzx4",
        "outputId": "74b5b801-aa83-4284-c274-5c03b03a3b66"
      },
      "source": [
        "# Vérification de la version de NVIDIA CUDA Compiler\n",
        "print('-- Checking nvcc version...')\n",
        "!nvcc -V\n",
        "\n",
        "# Vérification de la version de GPU Computer Collection\n",
        "print('\\n-- Checking GCC version...')\n",
        "!gcc --version"
      ],
      "execution_count": 3,
      "outputs": [
        {
          "output_type": "stream",
          "name": "stdout",
          "text": [
            "-- Checking nvcc version...\n",
            "nvcc: NVIDIA (R) Cuda compiler driver\n",
            "Copyright (c) 2005-2020 NVIDIA Corporation\n",
            "Built on Mon_Oct_12_20:09:46_PDT_2020\n",
            "Cuda compilation tools, release 11.1, V11.1.105\n",
            "Build cuda_11.1.TC455_06.29190527_0\n",
            "\n",
            "-- Checking GCC version...\n",
            "gcc (Ubuntu 7.5.0-3ubuntu1~18.04) 7.5.0\n",
            "Copyright (C) 2017 Free Software Foundation, Inc.\n",
            "This is free software; see the source for copying conditions.  There is NO\n",
            "warranty; not even for MERCHANTABILITY or FITNESS FOR A PARTICULAR PURPOSE.\n",
            "\n"
          ]
        }
      ]
    },
    {
      "cell_type": "markdown",
      "metadata": {
        "id": "yFkt-kO9YbB3"
      },
      "source": [
        "From the information above set your CUDA version:    \n",
        "\n",
        "`CUDA= 'cu111'`\n",
        "\n",
        "**Step 1**: Check the following site for available wheels for mmcv:\n",
        "\n",
        "https://openmmlab.oss-accelerate.aliyuncs.com/mmcv/dist/index.html\n",
        "\n",
        "Find the right combination of cuda, torch and torchvision:"
      ]
    },
    {
      "cell_type": "code",
      "metadata": {
        "id": "aG2Zh12BZI4-"
      },
      "source": [
        "CUDA= 'cu111'\n",
        "t_version= '1.8.0'\n",
        "tv_version= '0.9.0'"
      ],
      "execution_count": 4,
      "outputs": []
    },
    {
      "cell_type": "markdown",
      "metadata": {
        "id": "wQII50TFKDXP"
      },
      "source": [
        "Setting a few env variables (seems to help):"
      ]
    },
    {
      "cell_type": "code",
      "metadata": {
        "colab": {
          "base_uri": "https://localhost:8080/"
        },
        "id": "4omxD6WuUgHg",
        "outputId": "5e0656d9-79c3-4fde-90c2-b4870a30f30e"
      },
      "source": [
        "%env FORCE_CUDA='1'\n",
        "%env TORCH_CUDA_ARCH_LIST=\"6.0 6.1 7.0+PTX\"\n",
        "%env TORCH_NVCC_FLAGS=\"-Xfatbin -compress-all\"\n",
        "%env CMAKE_PREFIX_PATH=\"$(dirname $(which python3))/../\"\n",
        "!apt-get update && apt-get install -y ffmpeg libsm6 libxext6 git ninja-build libglib2.0-0 libsm6 libxrender-dev libxext6\n"
      ],
      "execution_count": 5,
      "outputs": [
        {
          "output_type": "stream",
          "name": "stdout",
          "text": [
            "env: FORCE_CUDA='1'\n",
            "env: TORCH_CUDA_ARCH_LIST=\"6.0 6.1 7.0+PTX\"\n",
            "env: TORCH_NVCC_FLAGS=\"-Xfatbin -compress-all\"\n",
            "env: CMAKE_PREFIX_PATH=\"$(dirname $(which python3))/../\"\n",
            "Get:1 https://cloud.r-project.org/bin/linux/ubuntu bionic-cran40/ InRelease [3,626 B]\n",
            "Ign:2 https://developer.download.nvidia.com/compute/cuda/repos/ubuntu1804/x86_64  InRelease\n",
            "Ign:3 https://developer.download.nvidia.com/compute/machine-learning/repos/ubuntu1804/x86_64  InRelease\n",
            "Get:4 https://developer.download.nvidia.com/compute/cuda/repos/ubuntu1804/x86_64  Release [696 B]\n",
            "Hit:5 https://developer.download.nvidia.com/compute/machine-learning/repos/ubuntu1804/x86_64  Release\n",
            "Get:6 https://developer.download.nvidia.com/compute/cuda/repos/ubuntu1804/x86_64  Release.gpg [836 B]\n",
            "Hit:7 http://archive.ubuntu.com/ubuntu bionic InRelease\n",
            "Get:8 http://ppa.launchpad.net/c2d4u.team/c2d4u4.0+/ubuntu bionic InRelease [15.9 kB]\n",
            "Get:9 http://security.ubuntu.com/ubuntu bionic-security InRelease [88.7 kB]\n",
            "Get:10 http://archive.ubuntu.com/ubuntu bionic-updates InRelease [88.7 kB]\n",
            "Get:12 https://developer.download.nvidia.com/compute/cuda/repos/ubuntu1804/x86_64  Packages [829 kB]\n",
            "Hit:13 http://ppa.launchpad.net/cran/libgit2/ubuntu bionic InRelease\n",
            "Get:14 http://archive.ubuntu.com/ubuntu bionic-backports InRelease [74.6 kB]\n",
            "Hit:15 http://ppa.launchpad.net/deadsnakes/ppa/ubuntu bionic InRelease\n",
            "Hit:16 http://ppa.launchpad.net/graphics-drivers/ppa/ubuntu bionic InRelease\n",
            "Get:17 http://security.ubuntu.com/ubuntu bionic-security/universe amd64 Packages [1,444 kB]\n",
            "Get:18 http://ppa.launchpad.net/c2d4u.team/c2d4u4.0+/ubuntu bionic/main Sources [1,813 kB]\n",
            "Get:19 http://archive.ubuntu.com/ubuntu bionic-updates/universe amd64 Packages [2,225 kB]\n",
            "Get:20 http://security.ubuntu.com/ubuntu bionic-security/main amd64 Packages [2,459 kB]\n",
            "Get:21 http://archive.ubuntu.com/ubuntu bionic-updates/main amd64 Packages [2,896 kB]\n",
            "Get:22 http://security.ubuntu.com/ubuntu bionic-security/restricted amd64 Packages [689 kB]\n",
            "Get:23 http://archive.ubuntu.com/ubuntu bionic-updates/restricted amd64 Packages [723 kB]\n",
            "Get:24 http://ppa.launchpad.net/c2d4u.team/c2d4u4.0+/ubuntu bionic/main amd64 Packages [930 kB]\n",
            "Fetched 14.3 MB in 4s (3,937 kB/s)\n",
            "Reading package lists... Done\n",
            "Reading package lists... Done\n",
            "Building dependency tree       \n",
            "Reading state information... Done\n",
            "libsm6 is already the newest version (2:1.2.2-1).\n",
            "libxext6 is already the newest version (2:1.3.3-1).\n",
            "libxrender-dev is already the newest version (1:0.9.10-1).\n",
            "libxrender-dev set to manually installed.\n",
            "git is already the newest version (1:2.17.1-1ubuntu0.9).\n",
            "libglib2.0-0 is already the newest version (2.56.4-0ubuntu0.18.04.8).\n",
            "libglib2.0-0 set to manually installed.\n",
            "ffmpeg is already the newest version (7:3.4.8-0ubuntu0.2).\n",
            "The following NEW packages will be installed:\n",
            "  ninja-build\n",
            "0 upgraded, 1 newly installed, 0 to remove and 43 not upgraded.\n",
            "Need to get 93.3 kB of archives.\n",
            "After this operation, 296 kB of additional disk space will be used.\n",
            "Get:1 http://archive.ubuntu.com/ubuntu bionic/universe amd64 ninja-build amd64 1.8.2-1 [93.3 kB]\n",
            "Fetched 93.3 kB in 1s (144 kB/s)\n",
            "Selecting previously unselected package ninja-build.\n",
            "(Reading database ... 155222 files and directories currently installed.)\n",
            "Preparing to unpack .../ninja-build_1.8.2-1_amd64.deb ...\n",
            "Unpacking ninja-build (1.8.2-1) ...\n",
            "Setting up ninja-build (1.8.2-1) ...\n",
            "Processing triggers for man-db (2.8.3-2ubuntu0.1) ...\n"
          ]
        }
      ]
    },
    {
      "cell_type": "markdown",
      "metadata": {
        "id": "_S0t8WvvbTsd"
      },
      "source": [
        "**Step 2**: install the proper version of PyTorch and Torchvision (:warning: may take 5 mins):          "
      ]
    },
    {
      "cell_type": "code",
      "metadata": {
        "colab": {
          "base_uri": "https://localhost:8080/"
        },
        "id": "KTxyunfoIIyU",
        "outputId": "9d10a84a-d3bb-4bfc-da56-38c5b1fe9ad3"
      },
      "source": [
        "print(f'-- Installing {CUDA} dependency...')\n",
        "!pip uninstall torchtext torchaudio -y\n",
        "!pip install --quiet -U torch=={t_version}+{CUDA} torchvision=={tv_version}+{CUDA} --find-links https://download.pytorch.org/whl/torch_stable.html"
      ],
      "execution_count": 6,
      "outputs": [
        {
          "output_type": "stream",
          "name": "stdout",
          "text": [
            "-- Installing cu111 dependency...\n",
            "Found existing installation: torchtext 0.11.0\n",
            "Uninstalling torchtext-0.11.0:\n",
            "  Successfully uninstalled torchtext-0.11.0\n",
            "Found existing installation: torchaudio 0.10.0+cu111\n",
            "Uninstalling torchaudio-0.10.0+cu111:\n",
            "  Successfully uninstalled torchaudio-0.10.0+cu111\n",
            "\u001b[K     |█████████████▌                  | 834.1 MB 1.4 MB/s eta 0:13:31tcmalloc: large alloc 1147494400 bytes == 0x555e934cc000 @  0x7f9c92c94615 0x555e5a7b34cc 0x555e5a89347a 0x555e5a7b62ed 0x555e5a8a7e1d 0x555e5a829e99 0x555e5a8249ee 0x555e5a7b7bda 0x555e5a829d00 0x555e5a8249ee 0x555e5a7b7bda 0x555e5a826737 0x555e5a8a8c66 0x555e5a825daf 0x555e5a8a8c66 0x555e5a825daf 0x555e5a8a8c66 0x555e5a825daf 0x555e5a7b8039 0x555e5a7fb409 0x555e5a7b6c52 0x555e5a829c25 0x555e5a8249ee 0x555e5a7b7bda 0x555e5a826737 0x555e5a8249ee 0x555e5a7b7bda 0x555e5a825915 0x555e5a7b7afa 0x555e5a825c0d 0x555e5a8249ee\n",
            "\u001b[K     |█████████████████               | 1055.7 MB 1.3 MB/s eta 0:11:51tcmalloc: large alloc 1434370048 bytes == 0x555ed7b22000 @  0x7f9c92c94615 0x555e5a7b34cc 0x555e5a89347a 0x555e5a7b62ed 0x555e5a8a7e1d 0x555e5a829e99 0x555e5a8249ee 0x555e5a7b7bda 0x555e5a829d00 0x555e5a8249ee 0x555e5a7b7bda 0x555e5a826737 0x555e5a8a8c66 0x555e5a825daf 0x555e5a8a8c66 0x555e5a825daf 0x555e5a8a8c66 0x555e5a825daf 0x555e5a7b8039 0x555e5a7fb409 0x555e5a7b6c52 0x555e5a829c25 0x555e5a8249ee 0x555e5a7b7bda 0x555e5a826737 0x555e5a8249ee 0x555e5a7b7bda 0x555e5a825915 0x555e5a7b7afa 0x555e5a825c0d 0x555e5a8249ee\n",
            "\u001b[K     |█████████████████████▋          | 1336.2 MB 1.3 MB/s eta 0:08:36tcmalloc: large alloc 1792966656 bytes == 0x555e5c954000 @  0x7f9c92c94615 0x555e5a7b34cc 0x555e5a89347a 0x555e5a7b62ed 0x555e5a8a7e1d 0x555e5a829e99 0x555e5a8249ee 0x555e5a7b7bda 0x555e5a829d00 0x555e5a8249ee 0x555e5a7b7bda 0x555e5a826737 0x555e5a8a8c66 0x555e5a825daf 0x555e5a8a8c66 0x555e5a825daf 0x555e5a8a8c66 0x555e5a825daf 0x555e5a7b8039 0x555e5a7fb409 0x555e5a7b6c52 0x555e5a829c25 0x555e5a8249ee 0x555e5a7b7bda 0x555e5a826737 0x555e5a8249ee 0x555e5a7b7bda 0x555e5a825915 0x555e5a7b7afa 0x555e5a825c0d 0x555e5a8249ee\n",
            "\u001b[K     |███████████████████████████▎    | 1691.1 MB 1.1 MB/s eta 0:04:23tcmalloc: large alloc 2241208320 bytes == 0x555ec773c000 @  0x7f9c92c94615 0x555e5a7b34cc 0x555e5a89347a 0x555e5a7b62ed 0x555e5a8a7e1d 0x555e5a829e99 0x555e5a8249ee 0x555e5a7b7bda 0x555e5a829d00 0x555e5a8249ee 0x555e5a7b7bda 0x555e5a826737 0x555e5a8a8c66 0x555e5a825daf 0x555e5a8a8c66 0x555e5a825daf 0x555e5a8a8c66 0x555e5a825daf 0x555e5a7b8039 0x555e5a7fb409 0x555e5a7b6c52 0x555e5a829c25 0x555e5a8249ee 0x555e5a7b7bda 0x555e5a826737 0x555e5a8249ee 0x555e5a7b7bda 0x555e5a825915 0x555e5a7b7afa 0x555e5a825c0d 0x555e5a8249ee\n",
            "\u001b[K     |████████████████████████████████| 1982.2 MB 1.3 MB/s eta 0:00:01tcmalloc: large alloc 1982251008 bytes == 0x555f4d09e000 @  0x7f9c92c931e7 0x555e5a7e9067 0x555e5a7b34cc 0x555e5a89347a 0x555e5a7b62ed 0x555e5a8a7e1d 0x555e5a829e99 0x555e5a8249ee 0x555e5a7b7bda 0x555e5a825c0d 0x555e5a8249ee 0x555e5a7b7bda 0x555e5a825c0d 0x555e5a8249ee 0x555e5a7b7bda 0x555e5a825c0d 0x555e5a8249ee 0x555e5a7b7bda 0x555e5a825c0d 0x555e5a8249ee 0x555e5a7b7bda 0x555e5a825c0d 0x555e5a7b7afa 0x555e5a825c0d 0x555e5a8249ee 0x555e5a7b7bda 0x555e5a826737 0x555e5a8249ee 0x555e5a7b7bda 0x555e5a826737 0x555e5a8249ee\n",
            "tcmalloc: large alloc 2477817856 bytes == 0x555fc330a000 @  0x7f9c92c94615 0x555e5a7b34cc 0x555e5a89347a 0x555e5a7b62ed 0x555e5a8a7e1d 0x555e5a829e99 0x555e5a8249ee 0x555e5a7b7bda 0x555e5a825c0d 0x555e5a8249ee 0x555e5a7b7bda 0x555e5a825c0d 0x555e5a8249ee 0x555e5a7b7bda 0x555e5a825c0d 0x555e5a8249ee 0x555e5a7b7bda 0x555e5a825c0d 0x555e5a8249ee 0x555e5a7b7bda 0x555e5a825c0d 0x555e5a7b7afa 0x555e5a825c0d 0x555e5a8249ee 0x555e5a7b7bda 0x555e5a826737 0x555e5a8249ee 0x555e5a7b7bda 0x555e5a826737 0x555e5a8249ee 0x555e5a7b8271\n",
            "\u001b[K     |████████████████████████████████| 1982.2 MB 4.4 kB/s \n",
            "\u001b[K     |████████████████████████████████| 17.6 MB 1.2 MB/s \n",
            "\u001b[?25h"
          ]
        }
      ]
    },
    {
      "cell_type": "markdown",
      "metadata": {
        "id": "qLxDQwCPwQwt"
      },
      "source": [
        "Check that verything has been installed properly:"
      ]
    },
    {
      "cell_type": "code",
      "metadata": {
        "colab": {
          "base_uri": "https://localhost:8080/"
        },
        "id": "9DawpNNfXYmE",
        "outputId": "a0507987-dc8d-4069-bcb6-03e77e493506"
      },
      "source": [
        "# Vérification de l'installation de Pytorch\n",
        "import torch, torchvision\n",
        "print('-- Checking Pytorch installation...')\n",
        "print(torchvision.__version__, torch.__version__, torch.cuda.is_available())"
      ],
      "execution_count": 8,
      "outputs": [
        {
          "output_type": "stream",
          "name": "stdout",
          "text": [
            "-- Checking Pytorch installation...\n",
            "0.9.0+cu111 1.8.0+cu111 True\n"
          ]
        }
      ]
    },
    {
      "cell_type": "markdown",
      "metadata": {
        "id": "4KON2ImsKy97"
      },
      "source": [
        "**Step 3**: install mmcv-full, note that this step can take a long time (up to 15 mins)"
      ]
    },
    {
      "cell_type": "code",
      "metadata": {
        "colab": {
          "base_uri": "https://localhost:8080/"
        },
        "id": "MAMOONlbIHNd",
        "outputId": "a47faddd-b8a6-4dd2-c591-7128e940fe4e"
      },
      "source": [
        "\n",
        "# Installation de mmcv-full afin d'utiliser les opérateurs CUDA\n",
        "print('\\n-- Installing OpenMMLab Computer Vision (mmcv-full)...')\n",
        "!pip install mmcv-full -f https://download.openmmlab.com/mmcv/dist/{CUDA}/torch{t_version}/index.html"
      ],
      "execution_count": 9,
      "outputs": [
        {
          "output_type": "stream",
          "name": "stdout",
          "text": [
            "\n",
            "-- Installing OpenMMLab Computer Vision (mmcv-full)...\n",
            "Looking in links: https://download.openmmlab.com/mmcv/dist/cu111/torch1.8.0/index.html\n",
            "Collecting mmcv-full\n",
            "  Downloading https://download.openmmlab.com/mmcv/dist/cu111/torch1.8.0/mmcv_full-1.4.0-cp37-cp37m-manylinux1_x86_64.whl (53.3 MB)\n",
            "\u001b[K     |████████████████████████████████| 53.3 MB 359 kB/s \n",
            "\u001b[?25hCollecting yapf\n",
            "  Downloading yapf-0.31.0-py2.py3-none-any.whl (185 kB)\n",
            "\u001b[K     |████████████████████████████████| 185 kB 8.3 MB/s \n",
            "\u001b[?25hRequirement already satisfied: packaging in /usr/local/lib/python3.7/dist-packages (from mmcv-full) (21.3)\n",
            "Requirement already satisfied: opencv-python>=3 in /usr/local/lib/python3.7/dist-packages (from mmcv-full) (4.1.2.30)\n",
            "Requirement already satisfied: pyyaml in /usr/local/lib/python3.7/dist-packages (from mmcv-full) (3.13)\n",
            "Requirement already satisfied: numpy in /usr/local/lib/python3.7/dist-packages (from mmcv-full) (1.19.5)\n",
            "Requirement already satisfied: Pillow in /usr/local/lib/python3.7/dist-packages (from mmcv-full) (7.1.2)\n",
            "Collecting addict\n",
            "  Downloading addict-2.4.0-py3-none-any.whl (3.8 kB)\n",
            "Requirement already satisfied: pyparsing!=3.0.5,>=2.0.2 in /usr/local/lib/python3.7/dist-packages (from packaging->mmcv-full) (3.0.6)\n",
            "Installing collected packages: yapf, addict, mmcv-full\n",
            "Successfully installed addict-2.4.0 mmcv-full-1.4.0 yapf-0.31.0\n"
          ]
        }
      ]
    },
    {
      "cell_type": "markdown",
      "metadata": {
        "id": "HYlbi1hIcNcU"
      },
      "source": [
        "**Step 4**: install mmdetection"
      ]
    },
    {
      "cell_type": "code",
      "metadata": {
        "colab": {
          "base_uri": "https://localhost:8080/"
        },
        "id": "3RWXDlBWUpAW",
        "outputId": "5453293e-dec2-4daf-903e-396975d6c599"
      },
      "source": [
        "# Installation de MMDetection\n",
        "print('\\n-- Installing MMDetection...(v2.18.1)')\n",
        "!rm -rf mmdetection\n",
        "!git clone -b v2.18.1 https://github.com/open-mmlab/mmdetection.git\n",
        "%cd mmdetection\n",
        "\n",
        "!pip install --no-cache-dir --quiet -e .\n",
        "\n",
        "# Installation de Pillow\n",
        "print('\\n-- Installing Pillow...')\n",
        "!pip install --quiet Pillow==7.0.0"
      ],
      "execution_count": 10,
      "outputs": [
        {
          "output_type": "stream",
          "name": "stdout",
          "text": [
            "\n",
            "-- Installing MMDetection...(v2.18.1)\n",
            "Cloning into 'mmdetection'...\n",
            "remote: Enumerating objects: 22199, done.\u001b[K\n",
            "remote: Total 22199 (delta 0), reused 0 (delta 0), pack-reused 22199\u001b[K\n",
            "Receiving objects: 100% (22199/22199), 25.39 MiB | 7.47 MiB/s, done.\n",
            "Resolving deltas: 100% (15541/15541), done.\n",
            "Note: checking out 'c76ab0eb3c637b86c343d8454e07e00cfecc1b78'.\n",
            "\n",
            "You are in 'detached HEAD' state. You can look around, make experimental\n",
            "changes and commit them, and you can discard any commits you make in this\n",
            "state without impacting any branches by performing another checkout.\n",
            "\n",
            "If you want to create a new branch to retain commits you create, you may\n",
            "do so (now or later) by using -b with the checkout command again. Example:\n",
            "\n",
            "  git checkout -b <new-branch-name>\n",
            "\n",
            "/content/mmdetection\n",
            "  Building wheel for terminaltables (setup.py) ... \u001b[?25l\u001b[?25hdone\n",
            "\n",
            "-- Installing Pillow...\n",
            "\u001b[K     |████████████████████████████████| 2.1 MB 9.8 MB/s \n",
            "\u001b[31mERROR: pip's dependency resolver does not currently take into account all the packages that are installed. This behaviour is the source of the following dependency conflicts.\n",
            "bokeh 2.3.3 requires pillow>=7.1.0, but you have pillow 7.0.0 which is incompatible.\n",
            "albumentations 0.1.12 requires imgaug<0.2.7,>=0.2.5, but you have imgaug 0.2.9 which is incompatible.\u001b[0m\n",
            "\u001b[?25h"
          ]
        }
      ]
    },
    {
      "cell_type": "markdown",
      "metadata": {
        "id": "GApaM1oHYQbo"
      },
      "source": [
        "Check that your configuration is working:"
      ]
    },
    {
      "cell_type": "code",
      "metadata": {
        "colab": {
          "base_uri": "https://localhost:8080/"
        },
        "id": "dPVSnT-dI_hD",
        "outputId": "766372e4-b6a5-472a-b2ba-0bf46f361b9f"
      },
      "source": [
        "# Vérification de l'installation de MMDetection\n",
        "import mmdet\n",
        "print('\\n-- Checking MMDetection installation...')\n",
        "print(mmdet.__version__)\n",
        "\n",
        "# Vérification de l'installation de mmcv\n",
        "from mmcv.ops import get_compiling_cuda_version, get_compiler_version\n",
        "print('\\n-- Checking mmcv installation...')\n",
        "print(get_compiling_cuda_version())\n",
        "print(get_compiler_version())"
      ],
      "execution_count": 11,
      "outputs": [
        {
          "output_type": "stream",
          "name": "stdout",
          "text": [
            "\n",
            "-- Checking MMDetection installation...\n",
            "2.18.1\n",
            "\n",
            "-- Checking mmcv installation...\n",
            "11.1\n",
            "GCC 7.3\n"
          ]
        }
      ]
    },
    {
      "cell_type": "markdown",
      "metadata": {
        "id": "y7j9aXPvw_Sn"
      },
      "source": [
        "Does the same thing:"
      ]
    },
    {
      "cell_type": "code",
      "metadata": {
        "colab": {
          "base_uri": "https://localhost:8080/"
        },
        "id": "I61K915Dw4iA",
        "outputId": "cf62feea-3c0d-4ea6-e6d5-200c41e0d1e1"
      },
      "source": [
        "!python /content/mmdetection/mmdet/utils/collect_env.py"
      ],
      "execution_count": 12,
      "outputs": [
        {
          "output_type": "stream",
          "name": "stdout",
          "text": [
            "sys.platform: linux\n",
            "Python: 3.7.12 (default, Sep 10 2021, 00:21:48) [GCC 7.5.0]\n",
            "CUDA available: True\n",
            "GPU 0: Tesla P100-PCIE-16GB\n",
            "CUDA_HOME: /usr/local/cuda\n",
            "NVCC: Build cuda_11.1.TC455_06.29190527_0\n",
            "GCC: gcc (Ubuntu 7.5.0-3ubuntu1~18.04) 7.5.0\n",
            "PyTorch: 1.8.0+cu111\n",
            "PyTorch compiling details: PyTorch built with:\n",
            "  - GCC 7.3\n",
            "  - C++ Version: 201402\n",
            "  - Intel(R) Math Kernel Library Version 2020.0.0 Product Build 20191122 for Intel(R) 64 architecture applications\n",
            "  - Intel(R) MKL-DNN v1.7.0 (Git Hash 7aed236906b1f7a05c0917e5257a1af05e9ff683)\n",
            "  - OpenMP 201511 (a.k.a. OpenMP 4.5)\n",
            "  - NNPACK is enabled\n",
            "  - CPU capability usage: AVX2\n",
            "  - CUDA Runtime 11.1\n",
            "  - NVCC architecture flags: -gencode;arch=compute_37,code=sm_37;-gencode;arch=compute_50,code=sm_50;-gencode;arch=compute_60,code=sm_60;-gencode;arch=compute_70,code=sm_70;-gencode;arch=compute_75,code=sm_75;-gencode;arch=compute_80,code=sm_80;-gencode;arch=compute_86,code=sm_86\n",
            "  - CuDNN 8.0.5\n",
            "  - Magma 2.5.2\n",
            "  - Build settings: BLAS_INFO=mkl, BUILD_TYPE=Release, CUDA_VERSION=11.1, CUDNN_VERSION=8.0.5, CXX_COMPILER=/opt/rh/devtoolset-7/root/usr/bin/c++, CXX_FLAGS= -Wno-deprecated -fvisibility-inlines-hidden -DUSE_PTHREADPOOL -fopenmp -DNDEBUG -DUSE_KINETO -DUSE_FBGEMM -DUSE_QNNPACK -DUSE_PYTORCH_QNNPACK -DUSE_XNNPACK -O2 -fPIC -Wno-narrowing -Wall -Wextra -Werror=return-type -Wno-missing-field-initializers -Wno-type-limits -Wno-array-bounds -Wno-unknown-pragmas -Wno-sign-compare -Wno-unused-parameter -Wno-unused-variable -Wno-unused-function -Wno-unused-result -Wno-unused-local-typedefs -Wno-strict-overflow -Wno-strict-aliasing -Wno-error=deprecated-declarations -Wno-stringop-overflow -Wno-psabi -Wno-error=pedantic -Wno-error=redundant-decls -Wno-error=old-style-cast -fdiagnostics-color=always -faligned-new -Wno-unused-but-set-variable -Wno-maybe-uninitialized -fno-math-errno -fno-trapping-math -Werror=format -Wno-stringop-overflow, LAPACK_INFO=mkl, PERF_WITH_AVX=1, PERF_WITH_AVX2=1, PERF_WITH_AVX512=1, TORCH_VERSION=1.8.0, USE_CUDA=ON, USE_CUDNN=ON, USE_EXCEPTION_PTR=1, USE_GFLAGS=OFF, USE_GLOG=OFF, USE_MKL=ON, USE_MKLDNN=ON, USE_MPI=OFF, USE_NCCL=ON, USE_NNPACK=ON, USE_OPENMP=ON, \n",
            "\n",
            "TorchVision: 0.9.0+cu111\n",
            "OpenCV: 4.1.2\n",
            "MMCV: 1.4.0\n",
            "MMCV Compiler: GCC 7.3\n",
            "MMCV CUDA Compiler: 11.1\n",
            "MMDetection: 2.18.1+c76ab0e\n"
          ]
        }
      ]
    },
    {
      "cell_type": "markdown",
      "metadata": {
        "id": "ywlb_zKzdkvn"
      },
      "source": [
        "# Install Remote-SSH\n",
        "\n",
        "see https://github.com/WassimBenzarti/colab-ssh#getting-started for more details.\n",
        "\n",
        "You'll need to create a few account for Grok (https://ngrok.com/) and put your Token below."
      ]
    },
    {
      "cell_type": "code",
      "metadata": {
        "colab": {
          "base_uri": "https://localhost:8080/"
        },
        "id": "8nVVCpeJdiOT",
        "outputId": "59fcc4cf-b898-4757-9bee-57469af5b537"
      },
      "source": [
        "!pip install colab_ssh --upgrade\n",
        "from colab_ssh import launch_ssh\n",
        "# in a separate cell in case you need to restart the service\n",
        "ngrokToken = '1rZmHTiz3ruPkv11x4eiNryp1ix_24kNnu8vkHc6BbWhZGBFW'\n",
        "launch_ssh(ngrokToken, password=\"password\")"
      ],
      "execution_count": 13,
      "outputs": [
        {
          "output_type": "stream",
          "name": "stdout",
          "text": [
            "Collecting colab_ssh\n",
            "  Downloading colab_ssh-0.3.27-py3-none-any.whl (26 kB)\n",
            "Installing collected packages: colab-ssh\n",
            "Successfully installed colab-ssh-0.3.27\n",
            "Warning: Due to some issues with ngrok on Google Colab, reported in the issue https://github.com/WassimBenzarti/colab-ssh/issues/45, \n",
            "we highly recommend that update your code by following this documentation https://github.com/WassimBenzarti/colab-ssh#getting-started\n",
            "Successfully running 6.tcp.ngrok.io:19650\n",
            "[Optional] You can also connect with VSCode SSH Remote extension using this configuration:\n",
            "\n",
            "  Host google_colab_ssh\n",
            "    HostName 6.tcp.ngrok.io\n",
            "    User root\n",
            "    Port 19650\n",
            "    \n"
          ]
        }
      ]
    },
    {
      "cell_type": "markdown",
      "metadata": {
        "id": "HAbBbRXvdvyT"
      },
      "source": [
        "Add the config shown above in vscode (View/Command Palette/Remote-SSH: Open config). For instance:\n",
        "\n",
        "```\n",
        "Host google_colab_ssh\n",
        "    HostName 8.tcp.ngrok.io\n",
        "    User root\n",
        "    Port 15005\n",
        "    RemoteCommand cd /content\n",
        "    LocalForward 127.0.0.1:8888 127.0.0.1:8888\n",
        "```\n",
        "\n"
      ]
    },
    {
      "cell_type": "markdown",
      "metadata": {
        "id": "MJ6UvrL3ox37"
      },
      "source": [
        "Clone the notebooks:"
      ]
    },
    {
      "cell_type": "code",
      "metadata": {
        "id": "UQDBRYIVobQ3",
        "colab": {
          "base_uri": "https://localhost:8080/"
        },
        "outputId": "723b7d8e-60d4-4084-c4c1-880f71f4f51f"
      },
      "source": [
        "%cd /content/\n",
        "!git clone -b code-reorg https://github.com/sfoucher/Masterclass-Biodiversity.git"
      ],
      "execution_count": 14,
      "outputs": [
        {
          "output_type": "stream",
          "name": "stdout",
          "text": [
            "/content\n",
            "Cloning into 'Masterclass-Biodiversity'...\n",
            "remote: Enumerating objects: 654, done.\u001b[K\n",
            "remote: Counting objects: 100% (654/654), done.\u001b[K\n",
            "remote: Compressing objects: 100% (444/444), done.\u001b[K\n",
            "remote: Total 654 (delta 237), reused 593 (delta 201), pack-reused 0\u001b[K\n",
            "Receiving objects: 100% (654/654), 4.62 MiB | 25.55 MiB/s, done.\n",
            "Resolving deltas: 100% (237/237), done.\n"
          ]
        }
      ]
    },
    {
      "cell_type": "markdown",
      "metadata": {
        "id": "0p883b_zoW11"
      },
      "source": [
        "Launch a jupyter server:"
      ]
    },
    {
      "cell_type": "code",
      "metadata": {
        "id": "_1AiYbommKzO"
      },
      "source": [
        "%cd /content/\n",
        "!pip install jupyterlab\n",
        "!pip install git+https://github.com/albu/albumentations@1.0.0 pip install pandas wandb\n",
        "!nohup jupyter lab --ip='0.0.0.0' --port=8888 --no-browser --allow-root --notebook-dir='/content/'&"
      ],
      "execution_count": null,
      "outputs": []
    }
  ]
}