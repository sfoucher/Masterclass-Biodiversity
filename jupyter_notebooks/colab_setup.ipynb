{
  "nbformat": 4,
  "nbformat_minor": 0,
  "metadata": {
    "colab": {
      "name": "colab setup.ipynb",
      "provenance": [],
      "authorship_tag": "ABX9TyOQzrasg5sDAUoBY9yzjSw9",
      "include_colab_link": true
    },
    "kernelspec": {
      "name": "python3",
      "display_name": "Python 3"
    },
    "language_info": {
      "name": "python"
    },
    "accelerator": "GPU"
  },
  "cells": [
    {
      "cell_type": "markdown",
      "metadata": {
        "id": "view-in-github",
        "colab_type": "text"
      },
      "source": [
        "<a href=\"https://colab.research.google.com/github/sfoucher/Masterclass-Biodiversity/blob/code-reorg/jupyter_notebooks/colab_setup.ipynb\" target=\"_parent\"><img src=\"https://colab.research.google.com/assets/colab-badge.svg\" alt=\"Open In Colab\"/></a>"
      ]
    },
    {
      "cell_type": "markdown",
      "metadata": {
        "id": "nj8jdkRIOQUu"
      },
      "source": [
        "Installing mmdetection in colab can be tricky.\n",
        "\n",
        "First make sure you have a GPU:"
      ]
    },
    {
      "cell_type": "code",
      "metadata": {
        "colab": {
          "base_uri": "https://localhost:8080/"
        },
        "id": "_ooWgZZgOJHb",
        "outputId": "77f9fb1d-49e1-4c4e-df02-26f8e11e467c"
      },
      "source": [
        "!nvidia-smi"
      ],
      "execution_count": 1,
      "outputs": [
        {
          "output_type": "stream",
          "name": "stdout",
          "text": [
            "Thu Dec  2 13:51:12 2021       \n",
            "+-----------------------------------------------------------------------------+\n",
            "| NVIDIA-SMI 495.44       Driver Version: 460.32.03    CUDA Version: 11.2     |\n",
            "|-------------------------------+----------------------+----------------------+\n",
            "| GPU  Name        Persistence-M| Bus-Id        Disp.A | Volatile Uncorr. ECC |\n",
            "| Fan  Temp  Perf  Pwr:Usage/Cap|         Memory-Usage | GPU-Util  Compute M. |\n",
            "|                               |                      |               MIG M. |\n",
            "|===============================+======================+======================|\n",
            "|   0  Tesla P100-PCIE...  Off  | 00000000:00:04.0 Off |                    0 |\n",
            "| N/A   41C    P0    29W / 250W |      0MiB / 16280MiB |      0%      Default |\n",
            "|                               |                      |                  N/A |\n",
            "+-------------------------------+----------------------+----------------------+\n",
            "                                                                               \n",
            "+-----------------------------------------------------------------------------+\n",
            "| Processes:                                                                  |\n",
            "|  GPU   GI   CI        PID   Type   Process name                  GPU Memory |\n",
            "|        ID   ID                                                   Usage      |\n",
            "|=============================================================================|\n",
            "|  No running processes found                                                 |\n",
            "+-----------------------------------------------------------------------------+\n"
          ]
        }
      ]
    },
    {
      "cell_type": "code",
      "metadata": {
        "colab": {
          "base_uri": "https://localhost:8080/"
        },
        "id": "zwUSDB-IHzx4",
        "outputId": "ff7778ff-d491-49dd-85f5-6ef09d8bcc8b"
      },
      "source": [
        "# Vérification de la version de NVIDIA CUDA Compiler\n",
        "print('-- Checking nvcc version...')\n",
        "!nvcc -V\n",
        "\n",
        "# Vérification de la version de GPU Computer Collection\n",
        "print('\\n-- Checking GCC version...')\n",
        "!gcc --version"
      ],
      "execution_count": 2,
      "outputs": [
        {
          "output_type": "stream",
          "name": "stdout",
          "text": [
            "-- Checking nvcc version...\n",
            "nvcc: NVIDIA (R) Cuda compiler driver\n",
            "Copyright (c) 2005-2020 NVIDIA Corporation\n",
            "Built on Mon_Oct_12_20:09:46_PDT_2020\n",
            "Cuda compilation tools, release 11.1, V11.1.105\n",
            "Build cuda_11.1.TC455_06.29190527_0\n",
            "\n",
            "-- Checking GCC version...\n",
            "gcc (Ubuntu 7.5.0-3ubuntu1~18.04) 7.5.0\n",
            "Copyright (C) 2017 Free Software Foundation, Inc.\n",
            "This is free software; see the source for copying conditions.  There is NO\n",
            "warranty; not even for MERCHANTABILITY or FITNESS FOR A PARTICULAR PURPOSE.\n",
            "\n"
          ]
        }
      ]
    },
    {
      "cell_type": "markdown",
      "metadata": {
        "id": "yFkt-kO9YbB3"
      },
      "source": [
        "From the information above set your CUDA version:    \n",
        "\n",
        "`CUDA= 'cu111'`\n",
        "\n",
        "**Step 1**: Check the following site for available wheels for mmcv:\n",
        "\n",
        "https://openmmlab.oss-accelerate.aliyuncs.com/mmcv/dist/index.html\n",
        "\n",
        "Find the right combination of cuda, torch and torchvision:"
      ]
    },
    {
      "cell_type": "code",
      "metadata": {
        "id": "aG2Zh12BZI4-"
      },
      "source": [
        "CUDA= 'cu111'\n",
        "t_version= '1.8.0'\n",
        "tv_version= '0.9.0'"
      ],
      "execution_count": 3,
      "outputs": []
    },
    {
      "cell_type": "markdown",
      "metadata": {
        "id": "wQII50TFKDXP"
      },
      "source": [
        "Setting a few env variables (seems to help):"
      ]
    },
    {
      "cell_type": "code",
      "metadata": {
        "colab": {
          "base_uri": "https://localhost:8080/"
        },
        "id": "4omxD6WuUgHg",
        "outputId": "f02c5589-937e-43aa-cc1d-ce3892bad252"
      },
      "source": [
        "%env FORCE_CUDA='1'\n",
        "%env TORCH_CUDA_ARCH_LIST=\"6.0 6.1 7.0+PTX\"\n",
        "%env TORCH_NVCC_FLAGS=\"-Xfatbin -compress-all\"\n",
        "%env CMAKE_PREFIX_PATH=\"$(dirname $(which python3))/../\"\n",
        "!apt-get update && apt-get install -y ffmpeg libsm6 libxext6 git ninja-build libglib2.0-0 libsm6 libxrender-dev libxext6\n"
      ],
      "execution_count": 4,
      "outputs": [
        {
          "output_type": "stream",
          "name": "stdout",
          "text": [
            "env: FORCE_CUDA='1'\n",
            "env: TORCH_CUDA_ARCH_LIST=\"6.0 6.1 7.0+PTX\"\n",
            "env: TORCH_NVCC_FLAGS=\"-Xfatbin -compress-all\"\n",
            "env: CMAKE_PREFIX_PATH=\"$(dirname $(which python3))/../\"\n",
            "Get:1 https://cloud.r-project.org/bin/linux/ubuntu bionic-cran40/ InRelease [3,626 B]\n",
            "Ign:2 https://developer.download.nvidia.com/compute/cuda/repos/ubuntu1804/x86_64  InRelease\n",
            "Ign:3 https://developer.download.nvidia.com/compute/machine-learning/repos/ubuntu1804/x86_64  InRelease\n",
            "Get:4 https://developer.download.nvidia.com/compute/cuda/repos/ubuntu1804/x86_64  Release [696 B]\n",
            "Hit:5 https://developer.download.nvidia.com/compute/machine-learning/repos/ubuntu1804/x86_64  Release\n",
            "Get:6 http://ppa.launchpad.net/c2d4u.team/c2d4u4.0+/ubuntu bionic InRelease [15.9 kB]\n",
            "Get:7 http://security.ubuntu.com/ubuntu bionic-security InRelease [88.7 kB]\n",
            "Get:8 https://developer.download.nvidia.com/compute/cuda/repos/ubuntu1804/x86_64  Release.gpg [836 B]\n",
            "Get:10 https://developer.download.nvidia.com/compute/cuda/repos/ubuntu1804/x86_64  Packages [829 kB]\n",
            "Hit:11 http://ppa.launchpad.net/cran/libgit2/ubuntu bionic InRelease\n",
            "Get:12 http://security.ubuntu.com/ubuntu bionic-security/universe amd64 Packages [1,444 kB]\n",
            "Hit:13 http://ppa.launchpad.net/deadsnakes/ppa/ubuntu bionic InRelease\n",
            "Hit:14 http://ppa.launchpad.net/graphics-drivers/ppa/ubuntu bionic InRelease\n",
            "Get:15 http://ppa.launchpad.net/c2d4u.team/c2d4u4.0+/ubuntu bionic/main Sources [1,813 kB]\n",
            "Get:16 http://security.ubuntu.com/ubuntu bionic-security/restricted amd64 Packages [689 kB]\n",
            "Get:17 http://security.ubuntu.com/ubuntu bionic-security/main amd64 Packages [2,459 kB]\n",
            "Get:18 http://ppa.launchpad.net/c2d4u.team/c2d4u4.0+/ubuntu bionic/main amd64 Packages [930 kB]\n",
            "Hit:19 http://archive.ubuntu.com/ubuntu bionic InRelease\n",
            "Get:20 http://archive.ubuntu.com/ubuntu bionic-updates InRelease [88.7 kB]\n",
            "Get:21 http://archive.ubuntu.com/ubuntu bionic-backports InRelease [74.6 kB]\n",
            "Get:22 http://archive.ubuntu.com/ubuntu bionic-updates/universe amd64 Packages [2,225 kB]\n",
            "Get:23 http://archive.ubuntu.com/ubuntu bionic-updates/restricted amd64 Packages [723 kB]\n",
            "Get:24 http://archive.ubuntu.com/ubuntu bionic-updates/main amd64 Packages [2,896 kB]\n",
            "Fetched 14.3 MB in 10s (1,475 kB/s)\n",
            "Reading package lists... Done\n",
            "Reading package lists... Done\n",
            "Building dependency tree       \n",
            "Reading state information... Done\n",
            "libsm6 is already the newest version (2:1.2.2-1).\n",
            "libxext6 is already the newest version (2:1.3.3-1).\n",
            "libxrender-dev is already the newest version (1:0.9.10-1).\n",
            "libxrender-dev set to manually installed.\n",
            "git is already the newest version (1:2.17.1-1ubuntu0.9).\n",
            "libglib2.0-0 is already the newest version (2.56.4-0ubuntu0.18.04.8).\n",
            "libglib2.0-0 set to manually installed.\n",
            "ffmpeg is already the newest version (7:3.4.8-0ubuntu0.2).\n",
            "The following NEW packages will be installed:\n",
            "  ninja-build\n",
            "0 upgraded, 1 newly installed, 0 to remove and 43 not upgraded.\n",
            "Need to get 93.3 kB of archives.\n",
            "After this operation, 296 kB of additional disk space will be used.\n",
            "Get:1 http://archive.ubuntu.com/ubuntu bionic/universe amd64 ninja-build amd64 1.8.2-1 [93.3 kB]\n",
            "Fetched 93.3 kB in 1s (84.1 kB/s)\n",
            "Selecting previously unselected package ninja-build.\n",
            "(Reading database ... 155222 files and directories currently installed.)\n",
            "Preparing to unpack .../ninja-build_1.8.2-1_amd64.deb ...\n",
            "Unpacking ninja-build (1.8.2-1) ...\n",
            "Setting up ninja-build (1.8.2-1) ...\n",
            "Processing triggers for man-db (2.8.3-2ubuntu0.1) ...\n"
          ]
        }
      ]
    },
    {
      "cell_type": "markdown",
      "metadata": {
        "id": "_S0t8WvvbTsd"
      },
      "source": [
        "**Step 2**: install the proper version of PyTorch and Torchvision (:warning: may take 5 mins):          "
      ]
    },
    {
      "cell_type": "code",
      "metadata": {
        "colab": {
          "base_uri": "https://localhost:8080/"
        },
        "id": "KTxyunfoIIyU",
        "outputId": "e166bcd8-a456-467c-ec64-1abf8ba4049a"
      },
      "source": [
        "print(f'-- Installing {CUDA} dependency...')\n",
        "!pip uninstall torchtext torchaudio -y\n",
        "!pip install --quiet -U torch=={t_version}+{CUDA} torchvision=={tv_version}+{CUDA} --find-links https://download.pytorch.org/whl/torch_stable.html"
      ],
      "execution_count": 5,
      "outputs": [
        {
          "output_type": "stream",
          "name": "stdout",
          "text": [
            "-- Installing cu111 dependency...\n",
            "Found existing installation: torchtext 0.11.0\n",
            "Uninstalling torchtext-0.11.0:\n",
            "  Successfully uninstalled torchtext-0.11.0\n",
            "Found existing installation: torchaudio 0.10.0+cu111\n",
            "Uninstalling torchaudio-0.10.0+cu111:\n",
            "  Successfully uninstalled torchaudio-0.10.0+cu111\n",
            "\u001b[K     |█████████████▌                  | 834.1 MB 2.1 MB/s eta 0:09:10tcmalloc: large alloc 1147494400 bytes == 0x56504a338000 @  0x7fbca9abf615 0x56501005e4cc 0x56501013e47a 0x5650100612ed 0x565010152e1d 0x5650100d4e99 0x5650100cf9ee 0x565010062bda 0x5650100d4d00 0x5650100cf9ee 0x565010062bda 0x5650100d1737 0x565010153c66 0x5650100d0daf 0x565010153c66 0x5650100d0daf 0x565010153c66 0x5650100d0daf 0x565010063039 0x5650100a6409 0x565010061c52 0x5650100d4c25 0x5650100cf9ee 0x565010062bda 0x5650100d1737 0x5650100cf9ee 0x565010062bda 0x5650100d0915 0x565010062afa 0x5650100d0c0d 0x5650100cf9ee\n",
            "\u001b[K     |█████████████████               | 1055.7 MB 1.3 MB/s eta 0:11:35tcmalloc: large alloc 1434370048 bytes == 0x56508e98e000 @  0x7fbca9abf615 0x56501005e4cc 0x56501013e47a 0x5650100612ed 0x565010152e1d 0x5650100d4e99 0x5650100cf9ee 0x565010062bda 0x5650100d4d00 0x5650100cf9ee 0x565010062bda 0x5650100d1737 0x565010153c66 0x5650100d0daf 0x565010153c66 0x5650100d0daf 0x565010153c66 0x5650100d0daf 0x565010063039 0x5650100a6409 0x565010061c52 0x5650100d4c25 0x5650100cf9ee 0x565010062bda 0x5650100d1737 0x5650100cf9ee 0x565010062bda 0x5650100d0915 0x565010062afa 0x5650100d0c0d 0x5650100cf9ee\n",
            "\u001b[K     |█████████████████████▋          | 1336.2 MB 1.7 MB/s eta 0:06:12tcmalloc: large alloc 1792966656 bytes == 0x5650137c0000 @  0x7fbca9abf615 0x56501005e4cc 0x56501013e47a 0x5650100612ed 0x565010152e1d 0x5650100d4e99 0x5650100cf9ee 0x565010062bda 0x5650100d4d00 0x5650100cf9ee 0x565010062bda 0x5650100d1737 0x565010153c66 0x5650100d0daf 0x565010153c66 0x5650100d0daf 0x565010153c66 0x5650100d0daf 0x565010063039 0x5650100a6409 0x565010061c52 0x5650100d4c25 0x5650100cf9ee 0x565010062bda 0x5650100d1737 0x5650100cf9ee 0x565010062bda 0x5650100d0915 0x565010062afa 0x5650100d0c0d 0x5650100cf9ee\n",
            "\u001b[K     |███████████████████████████▎    | 1691.1 MB 1.3 MB/s eta 0:03:38tcmalloc: large alloc 2241208320 bytes == 0x56507e5a8000 @  0x7fbca9abf615 0x56501005e4cc 0x56501013e47a 0x5650100612ed 0x565010152e1d 0x5650100d4e99 0x5650100cf9ee 0x565010062bda 0x5650100d4d00 0x5650100cf9ee 0x565010062bda 0x5650100d1737 0x565010153c66 0x5650100d0daf 0x565010153c66 0x5650100d0daf 0x565010153c66 0x5650100d0daf 0x565010063039 0x5650100a6409 0x565010061c52 0x5650100d4c25 0x5650100cf9ee 0x565010062bda 0x5650100d1737 0x5650100cf9ee 0x565010062bda 0x5650100d0915 0x565010062afa 0x5650100d0c0d 0x5650100cf9ee\n",
            "\u001b[K     |████████████████████████████████| 1982.2 MB 1.4 MB/s eta 0:00:01tcmalloc: large alloc 1982251008 bytes == 0x565103f0a000 @  0x7fbca9abe1e7 0x565010094067 0x56501005e4cc 0x56501013e47a 0x5650100612ed 0x565010152e1d 0x5650100d4e99 0x5650100cf9ee 0x565010062bda 0x5650100d0c0d 0x5650100cf9ee 0x565010062bda 0x5650100d0c0d 0x5650100cf9ee 0x565010062bda 0x5650100d0c0d 0x5650100cf9ee 0x565010062bda 0x5650100d0c0d 0x5650100cf9ee 0x565010062bda 0x5650100d0c0d 0x565010062afa 0x5650100d0c0d 0x5650100cf9ee 0x565010062bda 0x5650100d1737 0x5650100cf9ee 0x565010062bda 0x5650100d1737 0x5650100cf9ee\n",
            "tcmalloc: large alloc 2477817856 bytes == 0x56517a176000 @  0x7fbca9abf615 0x56501005e4cc 0x56501013e47a 0x5650100612ed 0x565010152e1d 0x5650100d4e99 0x5650100cf9ee 0x565010062bda 0x5650100d0c0d 0x5650100cf9ee 0x565010062bda 0x5650100d0c0d 0x5650100cf9ee 0x565010062bda 0x5650100d0c0d 0x5650100cf9ee 0x565010062bda 0x5650100d0c0d 0x5650100cf9ee 0x565010062bda 0x5650100d0c0d 0x565010062afa 0x5650100d0c0d 0x5650100cf9ee 0x565010062bda 0x5650100d1737 0x5650100cf9ee 0x565010062bda 0x5650100d1737 0x5650100cf9ee 0x565010063271\n",
            "\u001b[K     |████████████████████████████████| 1982.2 MB 4.3 kB/s \n",
            "\u001b[K     |████████████████████████████████| 17.6 MB 49.7 MB/s \n",
            "\u001b[?25h"
          ]
        }
      ]
    },
    {
      "cell_type": "code",
      "metadata": {
        "id": "KTzDzxVCaEQy"
      },
      "source": [
        "Check that verything has been installed properly:"
      ],
      "execution_count": null,
      "outputs": []
    },
    {
      "cell_type": "code",
      "metadata": {
        "colab": {
          "base_uri": "https://localhost:8080/"
        },
        "id": "9DawpNNfXYmE",
        "outputId": "fa1e64fa-735f-4230-aa98-b596c882e8f1"
      },
      "source": [
        "# Vérification de l'installation de Pytorch\n",
        "import torch, torchvision\n",
        "print('-- Checking Pytorch installation...')\n",
        "print(torchvision.__version__, torch.__version__, torch.cuda.is_available())"
      ],
      "execution_count": 6,
      "outputs": [
        {
          "output_type": "stream",
          "name": "stdout",
          "text": [
            "-- Checking Pytorch installation...\n",
            "0.9.0+cu111 1.8.0+cu111 True\n"
          ]
        }
      ]
    },
    {
      "cell_type": "markdown",
      "metadata": {
        "id": "4KON2ImsKy97"
      },
      "source": [
        "**Step 3**: install mmcv-full, note that can take a long time (up to 15 mins)"
      ]
    },
    {
      "cell_type": "code",
      "metadata": {
        "colab": {
          "base_uri": "https://localhost:8080/"
        },
        "id": "MAMOONlbIHNd",
        "outputId": "bc452177-d5e0-4b52-fe52-f10549d91b05"
      },
      "source": [
        "\n",
        "# Installation de mmcv-full afin d'utiliser les opérateurs CUDA\n",
        "print('\\n-- Installing OpenMMLab Computer Vision (mmcv-full)...')\n",
        "!pip install mmcv-full -f https://download.openmmlab.com/mmcv/dist/{CUDA}/torch{t_version}/index.html"
      ],
      "execution_count": 7,
      "outputs": [
        {
          "output_type": "stream",
          "name": "stdout",
          "text": [
            "\n",
            "-- Installing OpenMMLab Computer Vision (mmcv-full)...\n",
            "Looking in links: https://download.openmmlab.com/mmcv/dist/cu111/torch1.8.0/index.html\n",
            "Collecting mmcv-full\n",
            "  Downloading https://download.openmmlab.com/mmcv/dist/cu111/torch1.8.0/mmcv_full-1.4.0-cp37-cp37m-manylinux1_x86_64.whl (53.3 MB)\n",
            "\u001b[K     |████████████████████████████████| 53.3 MB 2.6 MB/s \n",
            "\u001b[?25hRequirement already satisfied: packaging in /usr/local/lib/python3.7/dist-packages (from mmcv-full) (21.3)\n",
            "Requirement already satisfied: opencv-python>=3 in /usr/local/lib/python3.7/dist-packages (from mmcv-full) (4.1.2.30)\n",
            "Requirement already satisfied: numpy in /usr/local/lib/python3.7/dist-packages (from mmcv-full) (1.19.5)\n",
            "Collecting yapf\n",
            "  Downloading yapf-0.31.0-py2.py3-none-any.whl (185 kB)\n",
            "\u001b[K     |████████████████████████████████| 185 kB 4.1 MB/s \n",
            "\u001b[?25hRequirement already satisfied: pyyaml in /usr/local/lib/python3.7/dist-packages (from mmcv-full) (3.13)\n",
            "Requirement already satisfied: Pillow in /usr/local/lib/python3.7/dist-packages (from mmcv-full) (7.1.2)\n",
            "Collecting addict\n",
            "  Downloading addict-2.4.0-py3-none-any.whl (3.8 kB)\n",
            "Requirement already satisfied: pyparsing!=3.0.5,>=2.0.2 in /usr/local/lib/python3.7/dist-packages (from packaging->mmcv-full) (3.0.6)\n",
            "Installing collected packages: yapf, addict, mmcv-full\n",
            "Successfully installed addict-2.4.0 mmcv-full-1.4.0 yapf-0.31.0\n"
          ]
        }
      ]
    },
    {
      "cell_type": "markdown",
      "metadata": {
        "id": "HYlbi1hIcNcU"
      },
      "source": [
        "**Step 4**: install mmdetection"
      ]
    },
    {
      "cell_type": "code",
      "metadata": {
        "colab": {
          "base_uri": "https://localhost:8080/"
        },
        "id": "3RWXDlBWUpAW",
        "outputId": "c1b60a42-93e6-46af-b45a-d0c6e756944b"
      },
      "source": [
        "# Installation de MMDetection\n",
        "print('\\n-- Installing MMDetection...(v2.18.1)')\n",
        "!rm -rf mmdetection\n",
        "!git clone -b v2.18.1 https://github.com/open-mmlab/mmdetection.git\n",
        "%cd mmdetection\n",
        "\n",
        "!pip install --no-cache-dir --quiet -e .\n",
        "\n",
        "# Installation de Pillow\n",
        "print('\\n-- Installing Pillow...')\n",
        "!pip install --quiet Pillow==7.0.0"
      ],
      "execution_count": 8,
      "outputs": [
        {
          "output_type": "stream",
          "name": "stdout",
          "text": [
            "\n",
            "-- Installing MMDetection...(v2.18.1)\n",
            "Cloning into 'mmdetection'...\n",
            "remote: Enumerating objects: 22199, done.\u001b[K\n",
            "remote: Total 22199 (delta 0), reused 0 (delta 0), pack-reused 22199\u001b[K\n",
            "Receiving objects: 100% (22199/22199), 25.39 MiB | 13.65 MiB/s, done.\n",
            "Resolving deltas: 100% (15548/15548), done.\n",
            "Note: checking out 'c76ab0eb3c637b86c343d8454e07e00cfecc1b78'.\n",
            "\n",
            "You are in 'detached HEAD' state. You can look around, make experimental\n",
            "changes and commit them, and you can discard any commits you make in this\n",
            "state without impacting any branches by performing another checkout.\n",
            "\n",
            "If you want to create a new branch to retain commits you create, you may\n",
            "do so (now or later) by using -b with the checkout command again. Example:\n",
            "\n",
            "  git checkout -b <new-branch-name>\n",
            "\n",
            "/content/mmdetection\n",
            "  Building wheel for terminaltables (setup.py) ... \u001b[?25l\u001b[?25hdone\n",
            "\n",
            "-- Installing Pillow...\n",
            "\u001b[K     |████████████████████████████████| 2.1 MB 4.1 MB/s \n",
            "\u001b[31mERROR: pip's dependency resolver does not currently take into account all the packages that are installed. This behaviour is the source of the following dependency conflicts.\n",
            "bokeh 2.3.3 requires pillow>=7.1.0, but you have pillow 7.0.0 which is incompatible.\n",
            "albumentations 0.1.12 requires imgaug<0.2.7,>=0.2.5, but you have imgaug 0.2.9 which is incompatible.\u001b[0m\n",
            "\u001b[?25h"
          ]
        }
      ]
    },
    {
      "cell_type": "markdown",
      "metadata": {
        "id": "GApaM1oHYQbo"
      },
      "source": [
        "Check that your configuration is working:"
      ]
    },
    {
      "cell_type": "code",
      "metadata": {
        "colab": {
          "base_uri": "https://localhost:8080/"
        },
        "id": "dPVSnT-dI_hD",
        "outputId": "368c64ec-b55f-4ae0-c6fe-26579ae5060c"
      },
      "source": [
        "# Vérification de l'installation de MMDetection\n",
        "import mmdet\n",
        "print('\\n-- Checking MMDetection installation...')\n",
        "print(mmdet.__version__)\n",
        "\n",
        "# Vérification de l'installation de mmcv\n",
        "from mmcv.ops import get_compiling_cuda_version, get_compiler_version\n",
        "print('\\n-- Checking mmcv installation...')\n",
        "print(get_compiling_cuda_version())\n",
        "print(get_compiler_version())"
      ],
      "execution_count": 9,
      "outputs": [
        {
          "output_type": "stream",
          "name": "stdout",
          "text": [
            "\n",
            "-- Checking MMDetection installation...\n",
            "2.18.1\n",
            "\n",
            "-- Checking mmcv installation...\n",
            "11.1\n",
            "GCC 7.3\n"
          ]
        }
      ]
    },
    {
      "cell_type": "markdown",
      "metadata": {
        "id": "ywlb_zKzdkvn"
      },
      "source": [
        "# Install Remote-SSH\n",
        "\n",
        "see https://github.com/WassimBenzarti/colab-ssh#getting-started for more details.\n",
        "\n",
        "You'll need to create a few account for Grok (https://ngrok.com/) and put your Token below."
      ]
    },
    {
      "cell_type": "code",
      "metadata": {
        "colab": {
          "base_uri": "https://localhost:8080/"
        },
        "id": "8nVVCpeJdiOT",
        "outputId": "58ead108-29c4-4edb-d096-492872e42eab"
      },
      "source": [
        "!pip install colab_ssh --upgrade\n",
        "from colab_ssh import launch_ssh\n",
        "# in a separate cell in case you need to restart the service\n",
        "ngrokToken = '<YOUR GROK TOKEN>'\n",
        "launch_ssh(ngrokToken, password=\"password\")"
      ],
      "execution_count": 10,
      "outputs": [
        {
          "output_type": "stream",
          "name": "stdout",
          "text": [
            "Collecting colab_ssh\n",
            "  Downloading colab_ssh-0.3.27-py3-none-any.whl (26 kB)\n",
            "Installing collected packages: colab-ssh\n",
            "Successfully installed colab-ssh-0.3.27\n",
            "Warning: Due to some issues with ngrok on Google Colab, reported in the issue https://github.com/WassimBenzarti/colab-ssh/issues/45, \n",
            "we highly recommend that update your code by following this documentation https://github.com/WassimBenzarti/colab-ssh#getting-started\n",
            "Successfully running 8.tcp.ngrok.io:15005\n",
            "[Optional] You can also connect with VSCode SSH Remote extension using this configuration:\n",
            "\n",
            "  Host google_colab_ssh\n",
            "    HostName 8.tcp.ngrok.io\n",
            "    User root\n",
            "    Port 15005\n",
            "    \n"
          ]
        }
      ]
    },
    {
      "cell_type": "markdown",
      "metadata": {
        "id": "HAbBbRXvdvyT"
      },
      "source": [
        "Add the config shown above in vscode (View/Command Palette/Remote-SSH: Open config). For instance:\n",
        "\n",
        "```\n",
        "Host google_colab_ssh\n",
        "    HostName 8.tcp.ngrok.io\n",
        "    User root\n",
        "    Port 15005\n",
        "    RemoteCommand cd /content\n",
        "    LocalForward 127.0.0.1:8888 127.0.0.1:8888\n",
        "```\n",
        "\n"
      ]
    },
    {
      "cell_type": "markdown",
      "metadata": {
        "id": "MJ6UvrL3ox37"
      },
      "source": [
        "Clone the notebooks:"
      ]
    },
    {
      "cell_type": "code",
      "metadata": {
        "id": "UQDBRYIVobQ3"
      },
      "source": [
        "%cd /content/\n",
        "!git clone -b code-reorg https://github.com/sfoucher/Masterclass-Biodiversity.git"
      ],
      "execution_count": null,
      "outputs": []
    },
    {
      "cell_type": "markdown",
      "metadata": {
        "id": "0p883b_zoW11"
      },
      "source": [
        "Launch a jupyter server:"
      ]
    },
    {
      "cell_type": "code",
      "metadata": {
        "colab": {
          "base_uri": "https://localhost:8080/"
        },
        "id": "_1AiYbommKzO",
        "outputId": "264f30ec-c4a0-4117-834f-d75684d8a5f7"
      },
      "source": [
        "%cd /content/\n",
        "!pip install jupyterlab\n",
        "!nohup jupyter lab --ip='0.0.0.0' --port=8888 --no-browser --allow-root --notebook-dir='/content/'&"
      ],
      "execution_count": 13,
      "outputs": [
        {
          "output_type": "stream",
          "name": "stdout",
          "text": [
            "nohup: appending output to 'nohup.out'\n"
          ]
        }
      ]
    }
  ]
}